{
 "cells": [
  {
   "cell_type": "code",
   "execution_count": 1,
   "metadata": {},
   "outputs": [],
   "source": [
    "# Dependencies and Setup\r\n",
    "import pandas as pd\r\n",
    "\r\n",
    "# File to Load (Remember to Change These)\r\n",
    "school_data_to_load = \"Resources/schools_complete.csv\"\r\n",
    "student_data_to_load = \"Resources/students_complete.csv\"\r\n",
    "\r\n",
    "# Read School and Student Data File and store into Pandas DataFrames\r\n",
    "school_data_original_df = pd.read_csv(school_data_to_load)\r\n",
    "student_data_original_df = pd.read_csv(student_data_to_load)\r\n",
    "\r\n",
    "# Combine the data into a single dataset.  \r\n",
    "school_data_complete_df = pd.merge(student_data_original_df, school_data_original_df, how=\"left\", on=[\"school_name\", \"school_name\"])\r\n"
   ]
  },
  {
   "cell_type": "code",
   "execution_count": 2,
   "metadata": {},
   "outputs": [
    {
     "data": {
      "text/html": "<div>\n<style scoped>\n    .dataframe tbody tr th:only-of-type {\n        vertical-align: middle;\n    }\n\n    .dataframe tbody tr th {\n        vertical-align: top;\n    }\n\n    .dataframe thead th {\n        text-align: right;\n    }\n</style>\n<table border=\"1\" class=\"dataframe\">\n  <thead>\n    <tr style=\"text-align: right;\">\n      <th></th>\n      <th>School ID</th>\n      <th>school_name</th>\n      <th>type</th>\n      <th>size</th>\n      <th>budget</th>\n    </tr>\n  </thead>\n  <tbody>\n    <tr>\n      <th>0</th>\n      <td>0</td>\n      <td>Huang High School</td>\n      <td>District</td>\n      <td>2917</td>\n      <td>1910635</td>\n    </tr>\n    <tr>\n      <th>1</th>\n      <td>1</td>\n      <td>Figueroa High School</td>\n      <td>District</td>\n      <td>2949</td>\n      <td>1884411</td>\n    </tr>\n    <tr>\n      <th>2</th>\n      <td>2</td>\n      <td>Shelton High School</td>\n      <td>Charter</td>\n      <td>1761</td>\n      <td>1056600</td>\n    </tr>\n    <tr>\n      <th>3</th>\n      <td>3</td>\n      <td>Hernandez High School</td>\n      <td>District</td>\n      <td>4635</td>\n      <td>3022020</td>\n    </tr>\n    <tr>\n      <th>4</th>\n      <td>4</td>\n      <td>Griffin High School</td>\n      <td>Charter</td>\n      <td>1468</td>\n      <td>917500</td>\n    </tr>\n  </tbody>\n</table>\n</div>",
      "text/plain": "   School ID            school_name      type  size   budget\n0          0      Huang High School  District  2917  1910635\n1          1   Figueroa High School  District  2949  1884411\n2          2    Shelton High School   Charter  1761  1056600\n3          3  Hernandez High School  District  4635  3022020\n4          4    Griffin High School   Charter  1468   917500"
     },
     "execution_count": 2,
     "metadata": {},
     "output_type": "execute_result"
    }
   ],
   "source": [
    "#Print schools data frame\n",
    "school_data_original_df.head()"
   ]
  },
  {
   "cell_type": "code",
   "execution_count": 3,
   "metadata": {},
   "outputs": [
    {
     "data": {
      "text/html": "<div>\n<style scoped>\n    .dataframe tbody tr th:only-of-type {\n        vertical-align: middle;\n    }\n\n    .dataframe tbody tr th {\n        vertical-align: top;\n    }\n\n    .dataframe thead th {\n        text-align: right;\n    }\n</style>\n<table border=\"1\" class=\"dataframe\">\n  <thead>\n    <tr style=\"text-align: right;\">\n      <th></th>\n      <th>Student ID</th>\n      <th>student_name</th>\n      <th>gender</th>\n      <th>grade</th>\n      <th>school_name</th>\n      <th>reading_score</th>\n      <th>math_score</th>\n    </tr>\n  </thead>\n  <tbody>\n    <tr>\n      <th>0</th>\n      <td>0</td>\n      <td>Paul Bradley</td>\n      <td>M</td>\n      <td>9th</td>\n      <td>Huang High School</td>\n      <td>66</td>\n      <td>79</td>\n    </tr>\n    <tr>\n      <th>1</th>\n      <td>1</td>\n      <td>Victor Smith</td>\n      <td>M</td>\n      <td>12th</td>\n      <td>Huang High School</td>\n      <td>94</td>\n      <td>61</td>\n    </tr>\n    <tr>\n      <th>2</th>\n      <td>2</td>\n      <td>Kevin Rodriguez</td>\n      <td>M</td>\n      <td>12th</td>\n      <td>Huang High School</td>\n      <td>90</td>\n      <td>60</td>\n    </tr>\n    <tr>\n      <th>3</th>\n      <td>3</td>\n      <td>Dr. Richard Scott</td>\n      <td>M</td>\n      <td>12th</td>\n      <td>Huang High School</td>\n      <td>67</td>\n      <td>58</td>\n    </tr>\n    <tr>\n      <th>4</th>\n      <td>4</td>\n      <td>Bonnie Ray</td>\n      <td>F</td>\n      <td>9th</td>\n      <td>Huang High School</td>\n      <td>97</td>\n      <td>84</td>\n    </tr>\n  </tbody>\n</table>\n</div>",
      "text/plain": "   Student ID       student_name gender grade        school_name  \\\n0           0       Paul Bradley      M   9th  Huang High School   \n1           1       Victor Smith      M  12th  Huang High School   \n2           2    Kevin Rodriguez      M  12th  Huang High School   \n3           3  Dr. Richard Scott      M  12th  Huang High School   \n4           4         Bonnie Ray      F   9th  Huang High School   \n\n   reading_score  math_score  \n0             66          79  \n1             94          61  \n2             90          60  \n3             67          58  \n4             97          84  "
     },
     "execution_count": 3,
     "metadata": {},
     "output_type": "execute_result"
    }
   ],
   "source": [
    "#Print student data frame\r\n",
    "student_data_original_df.head()"
   ]
  },
  {
   "cell_type": "code",
   "execution_count": 4,
   "metadata": {},
   "outputs": [
    {
     "data": {
      "text/html": "<div>\n<style scoped>\n    .dataframe tbody tr th:only-of-type {\n        vertical-align: middle;\n    }\n\n    .dataframe tbody tr th {\n        vertical-align: top;\n    }\n\n    .dataframe thead th {\n        text-align: right;\n    }\n</style>\n<table border=\"1\" class=\"dataframe\">\n  <thead>\n    <tr style=\"text-align: right;\">\n      <th></th>\n      <th>Student ID</th>\n      <th>student_name</th>\n      <th>gender</th>\n      <th>grade</th>\n      <th>school_name</th>\n      <th>reading_score</th>\n      <th>math_score</th>\n      <th>School ID</th>\n      <th>type</th>\n      <th>size</th>\n      <th>budget</th>\n    </tr>\n  </thead>\n  <tbody>\n    <tr>\n      <th>0</th>\n      <td>0</td>\n      <td>Paul Bradley</td>\n      <td>M</td>\n      <td>9th</td>\n      <td>Huang High School</td>\n      <td>66</td>\n      <td>79</td>\n      <td>0</td>\n      <td>District</td>\n      <td>2917</td>\n      <td>1910635</td>\n    </tr>\n    <tr>\n      <th>1</th>\n      <td>1</td>\n      <td>Victor Smith</td>\n      <td>M</td>\n      <td>12th</td>\n      <td>Huang High School</td>\n      <td>94</td>\n      <td>61</td>\n      <td>0</td>\n      <td>District</td>\n      <td>2917</td>\n      <td>1910635</td>\n    </tr>\n    <tr>\n      <th>2</th>\n      <td>2</td>\n      <td>Kevin Rodriguez</td>\n      <td>M</td>\n      <td>12th</td>\n      <td>Huang High School</td>\n      <td>90</td>\n      <td>60</td>\n      <td>0</td>\n      <td>District</td>\n      <td>2917</td>\n      <td>1910635</td>\n    </tr>\n    <tr>\n      <th>3</th>\n      <td>3</td>\n      <td>Dr. Richard Scott</td>\n      <td>M</td>\n      <td>12th</td>\n      <td>Huang High School</td>\n      <td>67</td>\n      <td>58</td>\n      <td>0</td>\n      <td>District</td>\n      <td>2917</td>\n      <td>1910635</td>\n    </tr>\n    <tr>\n      <th>4</th>\n      <td>4</td>\n      <td>Bonnie Ray</td>\n      <td>F</td>\n      <td>9th</td>\n      <td>Huang High School</td>\n      <td>97</td>\n      <td>84</td>\n      <td>0</td>\n      <td>District</td>\n      <td>2917</td>\n      <td>1910635</td>\n    </tr>\n  </tbody>\n</table>\n</div>",
      "text/plain": "   Student ID       student_name gender grade        school_name  \\\n0           0       Paul Bradley      M   9th  Huang High School   \n1           1       Victor Smith      M  12th  Huang High School   \n2           2    Kevin Rodriguez      M  12th  Huang High School   \n3           3  Dr. Richard Scott      M  12th  Huang High School   \n4           4         Bonnie Ray      F   9th  Huang High School   \n\n   reading_score  math_score  School ID      type  size   budget  \n0             66          79          0  District  2917  1910635  \n1             94          61          0  District  2917  1910635  \n2             90          60          0  District  2917  1910635  \n3             67          58          0  District  2917  1910635  \n4             97          84          0  District  2917  1910635  "
     },
     "execution_count": 4,
     "metadata": {},
     "output_type": "execute_result"
    }
   ],
   "source": [
    "# Print data frame\n",
    "\n",
    "school_data_complete_df.head()"
   ]
  },
  {
   "cell_type": "code",
   "execution_count": 5,
   "metadata": {},
   "outputs": [
    {
     "data": {
      "text/html": "<div>\n<style scoped>\n    .dataframe tbody tr th:only-of-type {\n        vertical-align: middle;\n    }\n\n    .dataframe tbody tr th {\n        vertical-align: top;\n    }\n\n    .dataframe thead th {\n        text-align: right;\n    }\n</style>\n<table border=\"1\" class=\"dataframe\">\n  <thead>\n    <tr style=\"text-align: right;\">\n      <th></th>\n      <th>Student ID</th>\n      <th>Student Name</th>\n      <th>Gender</th>\n      <th>Grade</th>\n      <th>School Name</th>\n      <th>Reading Score</th>\n      <th>Math Score</th>\n      <th>School ID</th>\n      <th>Type</th>\n      <th>Size</th>\n      <th>Budget</th>\n    </tr>\n  </thead>\n  <tbody>\n    <tr>\n      <th>0</th>\n      <td>0</td>\n      <td>Paul Bradley</td>\n      <td>M</td>\n      <td>9th</td>\n      <td>Huang High School</td>\n      <td>66</td>\n      <td>79</td>\n      <td>0</td>\n      <td>District</td>\n      <td>2917</td>\n      <td>1910635</td>\n    </tr>\n    <tr>\n      <th>1</th>\n      <td>1</td>\n      <td>Victor Smith</td>\n      <td>M</td>\n      <td>12th</td>\n      <td>Huang High School</td>\n      <td>94</td>\n      <td>61</td>\n      <td>0</td>\n      <td>District</td>\n      <td>2917</td>\n      <td>1910635</td>\n    </tr>\n    <tr>\n      <th>2</th>\n      <td>2</td>\n      <td>Kevin Rodriguez</td>\n      <td>M</td>\n      <td>12th</td>\n      <td>Huang High School</td>\n      <td>90</td>\n      <td>60</td>\n      <td>0</td>\n      <td>District</td>\n      <td>2917</td>\n      <td>1910635</td>\n    </tr>\n    <tr>\n      <th>3</th>\n      <td>3</td>\n      <td>Dr. Richard Scott</td>\n      <td>M</td>\n      <td>12th</td>\n      <td>Huang High School</td>\n      <td>67</td>\n      <td>58</td>\n      <td>0</td>\n      <td>District</td>\n      <td>2917</td>\n      <td>1910635</td>\n    </tr>\n    <tr>\n      <th>4</th>\n      <td>4</td>\n      <td>Bonnie Ray</td>\n      <td>F</td>\n      <td>9th</td>\n      <td>Huang High School</td>\n      <td>97</td>\n      <td>84</td>\n      <td>0</td>\n      <td>District</td>\n      <td>2917</td>\n      <td>1910635</td>\n    </tr>\n  </tbody>\n</table>\n</div>",
      "text/plain": "   Student ID       Student Name Gender Grade        School Name  \\\n0           0       Paul Bradley      M   9th  Huang High School   \n1           1       Victor Smith      M  12th  Huang High School   \n2           2    Kevin Rodriguez      M  12th  Huang High School   \n3           3  Dr. Richard Scott      M  12th  Huang High School   \n4           4         Bonnie Ray      F   9th  Huang High School   \n\n   Reading Score  Math Score  School ID      Type  Size   Budget  \n0             66          79          0  District  2917  1910635  \n1             94          61          0  District  2917  1910635  \n2             90          60          0  District  2917  1910635  \n3             67          58          0  District  2917  1910635  \n4             97          84          0  District  2917  1910635  "
     },
     "execution_count": 5,
     "metadata": {},
     "output_type": "execute_result"
    }
   ],
   "source": [
    "# Rename columns\n",
    "school_data_df = school_data_complete_df.rename(columns={'student_name': 'Student Name',\n",
    "                                                        'school_name': 'School Name', \n",
    "                                                        'gender': 'Gender', \n",
    "                                                        'grade': 'Grade', \n",
    "                                                        'reading_score': 'Reading Score', \n",
    "                                                        'math_score': 'Math Score',\n",
    "                                                         'type': 'Type', \n",
    "                                                         'size': 'Size', \n",
    "                                                         'budget': 'Budget'})\n",
    "school_data_df.head()"
   ]
  },
  {
   "cell_type": "code",
   "execution_count": 6,
   "metadata": {},
   "outputs": [
    {
     "data": {
      "text/plain": "Student ID       39170\nStudent Name     39170\nGender           39170\nGrade            39170\nSchool Name      39170\nReading Score    39170\nMath Score       39170\nSchool ID        39170\nType             39170\nSize             39170\nBudget           39170\ndtype: int64"
     },
     "execution_count": 6,
     "metadata": {},
     "output_type": "execute_result"
    }
   ],
   "source": [
    "# Check rows in data\n",
    "school_data_df.count()"
   ]
  },
  {
   "cell_type": "code",
   "execution_count": 7,
   "metadata": {},
   "outputs": [
    {
     "name": "stdout",
     "output_type": "stream",
     "text": [
      "15\n"
     ]
    }
   ],
   "source": [
    "# Calculate the number of schools\r\n",
    "school_count = len(school_data_df['School Name'].unique())\r\n",
    "print(school_count)"
   ]
  },
  {
   "cell_type": "code",
   "execution_count": 8,
   "metadata": {},
   "outputs": [
    {
     "name": "stdout",
     "output_type": "stream",
     "text": [
      "39170\n"
     ]
    }
   ],
   "source": [
    "# Calculate the total number of students\r\n",
    "student_count = school_data_df['Student Name'].count()\r\n",
    "print(student_count)"
   ]
  },
  {
   "cell_type": "code",
   "execution_count": 9,
   "metadata": {},
   "outputs": [
    {
     "name": "stdout",
     "output_type": "stream",
     "text": [
      "24649428\n"
     ]
    }
   ],
   "source": [
    "#Calculate total budget\r\n",
    "total_budget = school_data_original_df['budget'].sum()\r\n",
    "print(total_budget)"
   ]
  },
  {
   "cell_type": "code",
   "execution_count": 10,
   "metadata": {},
   "outputs": [
    {
     "name": "stdout",
     "output_type": "stream",
     "text": [
      "78.98537145774827\n"
     ]
    }
   ],
   "source": [
    "# Calculate the average math \r\n",
    "ave_math = school_data_df['Math Score'].mean()\r\n",
    "print(ave_math)"
   ]
  },
  {
   "cell_type": "code",
   "execution_count": 11,
   "metadata": {},
   "outputs": [
    {
     "name": "stdout",
     "output_type": "stream",
     "text": [
      "81.87784018381414\n"
     ]
    }
   ],
   "source": [
    "# Calculate the average reading score\r\n",
    "ave_reading = school_data_df['Reading Score'].mean()\r\n",
    "print(ave_reading)"
   ]
  },
  {
   "cell_type": "code",
   "execution_count": 12,
   "metadata": {},
   "outputs": [
    {
     "name": "stdout",
     "output_type": "stream",
     "text": [
      "74.9808526933878\n"
     ]
    }
   ],
   "source": [
    "# Calculate the % passing Math\r\n",
    "total_math = school_data_df.loc[school_data_df['Math Score'] >= 70]['Math Score'].count()\r\n",
    "percent_math = total_math/student_count * 100\r\n",
    "print(percent_math)"
   ]
  },
  {
   "cell_type": "code",
   "execution_count": 13,
   "metadata": {},
   "outputs": [
    {
     "name": "stdout",
     "output_type": "stream",
     "text": [
      "85.80546336482001\n"
     ]
    }
   ],
   "source": [
    "# Calculate the % passing Reading\r\n",
    "total_reading = school_data_df.loc[school_data_df['Reading Score'] >= 70]['Reading Score'].count()\r\n",
    "percent_reading = total_reading/student_count * 100\r\n",
    "print(percent_reading)"
   ]
  },
  {
   "cell_type": "code",
   "execution_count": 14,
   "metadata": {},
   "outputs": [
    {
     "name": "stdout",
     "output_type": "stream",
     "text": [
      "65.17232575950983\n"
     ]
    }
   ],
   "source": [
    "# Calculate the % of students passing overall - need to find intersectione between math & reading to count students achieving both and divide by total students\r\n",
    "passing_both = school_data_df[(school_data_df['Reading Score'] >= 70) & (school_data_df['Math Score'] >= 70)]['Student ID'].count()\r\n",
    "percent_passing = passing_both/student_count * 100\r\n",
    "print(percent_passing)"
   ]
  },
  {
   "cell_type": "code",
   "execution_count": 15,
   "metadata": {},
   "outputs": [
    {
     "data": {
      "text/html": "<div>\n<style scoped>\n    .dataframe tbody tr th:only-of-type {\n        vertical-align: middle;\n    }\n\n    .dataframe tbody tr th {\n        vertical-align: top;\n    }\n\n    .dataframe thead th {\n        text-align: right;\n    }\n</style>\n<table border=\"1\" class=\"dataframe\">\n  <thead>\n    <tr style=\"text-align: right;\">\n      <th></th>\n      <th>Total Schools</th>\n      <th>Total Students</th>\n      <th>Total Budget</th>\n      <th>Average Math Score</th>\n      <th>Average Reading Score</th>\n      <th>% Passing Math</th>\n      <th>% Passing Reading</th>\n      <th>% Overall Passing</th>\n    </tr>\n  </thead>\n  <tbody>\n    <tr>\n      <th>0</th>\n      <td>15</td>\n      <td>39170</td>\n      <td>24649428</td>\n      <td>78.985371</td>\n      <td>81.87784</td>\n      <td>74.980853</td>\n      <td>85.805463</td>\n      <td>65.172326</td>\n    </tr>\n  </tbody>\n</table>\n</div>",
      "text/plain": "   Total Schools  Total Students  Total Budget  Average Math Score  \\\n0             15           39170      24649428           78.985371   \n\n   Average Reading Score  % Passing Math  % Passing Reading  % Overall Passing  \n0               81.87784       74.980853          85.805463          65.172326  "
     },
     "execution_count": 15,
     "metadata": {},
     "output_type": "execute_result"
    }
   ],
   "source": [
    "# Table to summarise metrics for each school - School Name, School Type, Total Students, Total School Budget, Per Student Budget, Ave Math Score, Ave Reading Score, % Passing Math, % Passing Reading, % Overall Passing\r\n",
    "summary_df = pd.DataFrame({'Total Schools': [school_count],\r\n",
    "                            'Total Students': student_count,\r\n",
    "                            'Total Budget': total_budget,\r\n",
    "                            'Average Math Score': ave_math,\r\n",
    "                            'Average Reading Score': ave_reading,\r\n",
    "                            '% Passing Math': percent_math, \r\n",
    "                            '% Passing Reading': percent_reading,\r\n",
    "                            '% Overall Passing': percent_passing\r\n",
    "                            })\r\n",
    "\r\n",
    "summary_df.head()"
   ]
  },
  {
   "cell_type": "code",
   "execution_count": 16,
   "metadata": {},
   "outputs": [
    {
     "data": {
      "text/html": "<div>\n<style scoped>\n    .dataframe tbody tr th:only-of-type {\n        vertical-align: middle;\n    }\n\n    .dataframe tbody tr th {\n        vertical-align: top;\n    }\n\n    .dataframe thead th {\n        text-align: right;\n    }\n</style>\n<table border=\"1\" class=\"dataframe\">\n  <thead>\n    <tr style=\"text-align: right;\">\n      <th></th>\n      <th>Total Schools</th>\n      <th>Total Students</th>\n      <th>Total Budget</th>\n      <th>Average Math Score</th>\n      <th>Average Reading Score</th>\n      <th>% Passing Math</th>\n      <th>% Passing Reading</th>\n      <th>% Overall Passing</th>\n    </tr>\n  </thead>\n  <tbody>\n    <tr>\n      <th>0</th>\n      <td>15</td>\n      <td>39,170</td>\n      <td>$24,649,428.00</td>\n      <td>78.99</td>\n      <td>81.88</td>\n      <td>74.98%</td>\n      <td>85.81%</td>\n      <td>65.17%</td>\n    </tr>\n  </tbody>\n</table>\n</div>",
      "text/plain": "   Total Schools Total Students    Total Budget Average Math Score  \\\n0             15         39,170  $24,649,428.00              78.99   \n\n  Average Reading Score % Passing Math % Passing Reading % Overall Passing  \n0                 81.88         74.98%            85.81%            65.17%  "
     },
     "execution_count": 16,
     "metadata": {},
     "output_type": "execute_result"
    }
   ],
   "source": [
    "#Tidy formatting of df\r\n",
    "summary_df['Total Students'] = summary_df['Total Students'].map('{:,}'.format)\r\n",
    "summary_df['Total Budget'] = summary_df['Total Budget'].astype(float).map('${:,.2f}'.format)\r\n",
    "summary_df['Average Math Score'] = summary_df['Average Math Score'].map('{:.2f}'.format)\r\n",
    "summary_df['Average Reading Score'] = summary_df['Average Reading Score'].map('{:.2f}'.format)\r\n",
    "summary_df['% Passing Math'] = summary_df['% Passing Math'].map('{:.2f}%'.format)\r\n",
    "summary_df['% Passing Reading'] = summary_df['% Passing Reading'].map('{:.2f}%'.format)\r\n",
    "summary_df['% Overall Passing'] = summary_df['% Overall Passing'].map('{:.2f}%'.format)\r\n",
    "\r\n",
    "summary_df.head()"
   ]
  },
  {
   "cell_type": "code",
   "execution_count": 17,
   "metadata": {},
   "outputs": [
    {
     "data": {
      "text/html": "<div>\n<style scoped>\n    .dataframe tbody tr th:only-of-type {\n        vertical-align: middle;\n    }\n\n    .dataframe tbody tr th {\n        vertical-align: top;\n    }\n\n    .dataframe thead th {\n        text-align: right;\n    }\n</style>\n<table border=\"1\" class=\"dataframe\">\n  <thead>\n    <tr style=\"text-align: right;\">\n      <th></th>\n      <th>Student ID</th>\n      <th>Student Name</th>\n      <th>Gender</th>\n      <th>Grade</th>\n      <th>Reading Score</th>\n      <th>Math Score</th>\n      <th>School ID</th>\n      <th>Type</th>\n      <th>Size</th>\n      <th>Budget</th>\n    </tr>\n    <tr>\n      <th>School Name</th>\n      <th></th>\n      <th></th>\n      <th></th>\n      <th></th>\n      <th></th>\n      <th></th>\n      <th></th>\n      <th></th>\n      <th></th>\n      <th></th>\n    </tr>\n  </thead>\n  <tbody>\n    <tr>\n      <th>Huang High School</th>\n      <td>0</td>\n      <td>Paul Bradley</td>\n      <td>M</td>\n      <td>9th</td>\n      <td>66</td>\n      <td>79</td>\n      <td>0</td>\n      <td>District</td>\n      <td>2917</td>\n      <td>1910635</td>\n    </tr>\n    <tr>\n      <th>Huang High School</th>\n      <td>1</td>\n      <td>Victor Smith</td>\n      <td>M</td>\n      <td>12th</td>\n      <td>94</td>\n      <td>61</td>\n      <td>0</td>\n      <td>District</td>\n      <td>2917</td>\n      <td>1910635</td>\n    </tr>\n    <tr>\n      <th>Huang High School</th>\n      <td>2</td>\n      <td>Kevin Rodriguez</td>\n      <td>M</td>\n      <td>12th</td>\n      <td>90</td>\n      <td>60</td>\n      <td>0</td>\n      <td>District</td>\n      <td>2917</td>\n      <td>1910635</td>\n    </tr>\n    <tr>\n      <th>Huang High School</th>\n      <td>3</td>\n      <td>Dr. Richard Scott</td>\n      <td>M</td>\n      <td>12th</td>\n      <td>67</td>\n      <td>58</td>\n      <td>0</td>\n      <td>District</td>\n      <td>2917</td>\n      <td>1910635</td>\n    </tr>\n    <tr>\n      <th>Huang High School</th>\n      <td>4</td>\n      <td>Bonnie Ray</td>\n      <td>F</td>\n      <td>9th</td>\n      <td>97</td>\n      <td>84</td>\n      <td>0</td>\n      <td>District</td>\n      <td>2917</td>\n      <td>1910635</td>\n    </tr>\n    <tr>\n      <th>...</th>\n      <td>...</td>\n      <td>...</td>\n      <td>...</td>\n      <td>...</td>\n      <td>...</td>\n      <td>...</td>\n      <td>...</td>\n      <td>...</td>\n      <td>...</td>\n      <td>...</td>\n    </tr>\n    <tr>\n      <th>Thomas High School</th>\n      <td>37535</td>\n      <td>Norma Mata</td>\n      <td>F</td>\n      <td>10th</td>\n      <td>76</td>\n      <td>76</td>\n      <td>14</td>\n      <td>Charter</td>\n      <td>1635</td>\n      <td>1043130</td>\n    </tr>\n    <tr>\n      <th>Thomas High School</th>\n      <td>37536</td>\n      <td>Cody Miller</td>\n      <td>M</td>\n      <td>11th</td>\n      <td>84</td>\n      <td>82</td>\n      <td>14</td>\n      <td>Charter</td>\n      <td>1635</td>\n      <td>1043130</td>\n    </tr>\n    <tr>\n      <th>Thomas High School</th>\n      <td>37537</td>\n      <td>Erik Snyder</td>\n      <td>M</td>\n      <td>9th</td>\n      <td>80</td>\n      <td>90</td>\n      <td>14</td>\n      <td>Charter</td>\n      <td>1635</td>\n      <td>1043130</td>\n    </tr>\n    <tr>\n      <th>Thomas High School</th>\n      <td>37538</td>\n      <td>Tanya Martinez</td>\n      <td>F</td>\n      <td>9th</td>\n      <td>71</td>\n      <td>69</td>\n      <td>14</td>\n      <td>Charter</td>\n      <td>1635</td>\n      <td>1043130</td>\n    </tr>\n    <tr>\n      <th>Thomas High School</th>\n      <td>37539</td>\n      <td>Noah Erickson</td>\n      <td>M</td>\n      <td>9th</td>\n      <td>86</td>\n      <td>76</td>\n      <td>14</td>\n      <td>Charter</td>\n      <td>1635</td>\n      <td>1043130</td>\n    </tr>\n  </tbody>\n</table>\n<p>75 rows × 10 columns</p>\n</div>",
      "text/plain": "                    Student ID       Student Name Gender Grade  Reading Score  \\\nSchool Name                                                                     \nHuang High School            0       Paul Bradley      M   9th             66   \nHuang High School            1       Victor Smith      M  12th             94   \nHuang High School            2    Kevin Rodriguez      M  12th             90   \nHuang High School            3  Dr. Richard Scott      M  12th             67   \nHuang High School            4         Bonnie Ray      F   9th             97   \n...                        ...                ...    ...   ...            ...   \nThomas High School       37535         Norma Mata      F  10th             76   \nThomas High School       37536        Cody Miller      M  11th             84   \nThomas High School       37537        Erik Snyder      M   9th             80   \nThomas High School       37538     Tanya Martinez      F   9th             71   \nThomas High School       37539      Noah Erickson      M   9th             86   \n\n                    Math Score  School ID      Type  Size   Budget  \nSchool Name                                                         \nHuang High School           79          0  District  2917  1910635  \nHuang High School           61          0  District  2917  1910635  \nHuang High School           60          0  District  2917  1910635  \nHuang High School           58          0  District  2917  1910635  \nHuang High School           84          0  District  2917  1910635  \n...                        ...        ...       ...   ...      ...  \nThomas High School          76         14   Charter  1635  1043130  \nThomas High School          82         14   Charter  1635  1043130  \nThomas High School          90         14   Charter  1635  1043130  \nThomas High School          69         14   Charter  1635  1043130  \nThomas High School          76         14   Charter  1635  1043130  \n\n[75 rows x 10 columns]"
     },
     "execution_count": 17,
     "metadata": {},
     "output_type": "execute_result"
    }
   ],
   "source": [
    "# Grouped by school Name \r\n",
    "by_school = school_data_df.set_index('School Name').groupby(['School Name'])\r\n",
    "by_school.head()"
   ]
  },
  {
   "cell_type": "code",
   "execution_count": 18,
   "metadata": {},
   "outputs": [
    {
     "data": {
      "text/plain": "School Name\nHuang High School     District\nHuang High School     District\nHuang High School     District\nHuang High School     District\nHuang High School     District\n                        ...   \nThomas High School     Charter\nThomas High School     Charter\nThomas High School     Charter\nThomas High School     Charter\nThomas High School     Charter\nName: Type, Length: 39170, dtype: object"
     },
     "execution_count": 18,
     "metadata": {},
     "output_type": "execute_result"
    }
   ],
   "source": [
    "# School type\r\n",
    "school_type = school_data_df.set_index('School Name')['Type']\r\n",
    "school_type"
   ]
  },
  {
   "cell_type": "code",
   "execution_count": 19,
   "metadata": {},
   "outputs": [
    {
     "data": {
      "text/plain": "School Name\nHuang High School        District\nFigueroa High School     District\nShelton High School       Charter\nHernandez High School    District\nGriffin High School       Charter\nWilson High School        Charter\nCabrera High School       Charter\nBailey High School       District\nHolden High School        Charter\nPena High School          Charter\nWright High School        Charter\nRodriguez High School    District\nJohnson High School      District\nFord High School         District\nThomas High School        Charter\nName: Type, dtype: object"
     },
     "execution_count": 19,
     "metadata": {},
     "output_type": "execute_result"
    }
   ],
   "source": [
    "school_type = school_type[~school_type.index.duplicated()]\r\n",
    "school_type"
   ]
  },
  {
   "cell_type": "code",
   "execution_count": 20,
   "metadata": {},
   "outputs": [
    {
     "name": "stdout",
     "output_type": "stream",
     "text": [
      "School Name\n",
      "Bailey High School       4976\n",
      "Cabrera High School      1858\n",
      "Figueroa High School     2949\n",
      "Ford High School         2739\n",
      "Griffin High School      1468\n",
      "Hernandez High School    4635\n",
      "Holden High School        427\n",
      "Huang High School        2917\n",
      "Johnson High School      4761\n",
      "Pena High School          962\n",
      "Rodriguez High School    3999\n",
      "Shelton High School      1761\n",
      "Thomas High School       1635\n",
      "Wilson High School       2283\n",
      "Wright High School       1800\n",
      "Name: Student ID, dtype: int64\n"
     ]
    }
   ],
   "source": [
    "# Total students per school\r\n",
    "total_students = by_school['Student ID'].count()\r\n",
    "print(total_students)"
   ]
  },
  {
   "cell_type": "code",
   "execution_count": 21,
   "metadata": {},
   "outputs": [
    {
     "name": "stdout",
     "output_type": "stream",
     "text": [
      "School Name\n",
      "Huang High School        1910635\n",
      "Figueroa High School     1884411\n",
      "Shelton High School      1056600\n",
      "Hernandez High School    3022020\n",
      "Griffin High School       917500\n",
      "Wilson High School       1319574\n",
      "Cabrera High School      1081356\n",
      "Bailey High School       3124928\n",
      "Holden High School        248087\n",
      "Pena High School          585858\n",
      "Wright High School       1049400\n",
      "Rodriguez High School    2547363\n",
      "Johnson High School      3094650\n",
      "Ford High School         1763916\n",
      "Thomas High School       1043130\n",
      "Name: Budget, dtype: int64\n"
     ]
    }
   ],
   "source": [
    "# Total school budget\r\n",
    "school_total_budget = school_data_df.set_index('School Name')['Budget']\r\n",
    "school_total_budget = school_total_budget[~school_total_budget.index.duplicated()]\r\n",
    "print(school_total_budget)"
   ]
  },
  {
   "cell_type": "code",
   "execution_count": 22,
   "metadata": {},
   "outputs": [
    {
     "name": "stdout",
     "output_type": "stream",
     "text": [
      "School Name\n",
      "Huang High School        655.0\n",
      "Figueroa High School     639.0\n",
      "Shelton High School      600.0\n",
      "Hernandez High School    652.0\n",
      "Griffin High School      625.0\n",
      "Wilson High School       578.0\n",
      "Cabrera High School      582.0\n",
      "Bailey High School       628.0\n",
      "Holden High School       581.0\n",
      "Pena High School         609.0\n",
      "Wright High School       583.0\n",
      "Rodriguez High School    637.0\n",
      "Johnson High School      650.0\n",
      "Ford High School         644.0\n",
      "Thomas High School       638.0\n",
      "dtype: float64\n"
     ]
    }
   ],
   "source": [
    "# Per student budget\r\n",
    "per_student = school_data_df.set_index('School Name')['Budget'] / school_data_df.set_index('School Name')['Size']\r\n",
    "per_student = per_student[~per_student.index.duplicated()]\r\n",
    "print(per_student)"
   ]
  },
  {
   "cell_type": "code",
   "execution_count": 23,
   "metadata": {},
   "outputs": [
    {
     "name": "stdout",
     "output_type": "stream",
     "text": [
      "School Name\n",
      "Bailey High School       77.048432\n",
      "Cabrera High School      83.061895\n",
      "Figueroa High School     76.711767\n",
      "Ford High School         77.102592\n",
      "Griffin High School      83.351499\n",
      "Hernandez High School    77.289752\n",
      "Holden High School       83.803279\n",
      "Huang High School        76.629414\n",
      "Johnson High School      77.072464\n",
      "Pena High School         83.839917\n",
      "Rodriguez High School    76.842711\n",
      "Shelton High School      83.359455\n",
      "Thomas High School       83.418349\n",
      "Wilson High School       83.274201\n",
      "Wright High School       83.682222\n",
      "Name: Math Score, dtype: float64\n"
     ]
    }
   ],
   "source": [
    "# Average math score by school\r\n",
    "school_ave_math = by_school['Math Score'].mean()\r\n",
    "print(school_ave_math)"
   ]
  },
  {
   "cell_type": "code",
   "execution_count": 24,
   "metadata": {},
   "outputs": [
    {
     "name": "stdout",
     "output_type": "stream",
     "text": [
      "School Name\n",
      "Bailey High School       81.033963\n",
      "Cabrera High School      83.975780\n",
      "Figueroa High School     81.158020\n",
      "Ford High School         80.746258\n",
      "Griffin High School      83.816757\n",
      "Hernandez High School    80.934412\n",
      "Holden High School       83.814988\n",
      "Huang High School        81.182722\n",
      "Johnson High School      80.966394\n",
      "Pena High School         84.044699\n",
      "Rodriguez High School    80.744686\n",
      "Shelton High School      83.725724\n",
      "Thomas High School       83.848930\n",
      "Wilson High School       83.989488\n",
      "Wright High School       83.955000\n",
      "Name: Reading Score, dtype: float64\n"
     ]
    }
   ],
   "source": [
    "# Average reading score by school\r\n",
    "school_ave_reading = by_school['Reading Score'].mean()\r\n",
    "print(school_ave_reading)"
   ]
  },
  {
   "cell_type": "code",
   "execution_count": 25,
   "metadata": {},
   "outputs": [
    {
     "name": "stdout",
     "output_type": "stream",
     "text": [
      "School Name\n",
      "Bailey High School       66.680064\n",
      "Cabrera High School      94.133477\n",
      "Figueroa High School     65.988471\n",
      "Ford High School         68.309602\n",
      "Griffin High School      93.392371\n",
      "Hernandez High School    66.752967\n",
      "Holden High School       92.505855\n",
      "Huang High School        65.683922\n",
      "Johnson High School      66.057551\n",
      "Pena High School         94.594595\n",
      "Rodriguez High School    66.366592\n",
      "Shelton High School      93.867121\n",
      "Thomas High School       93.272171\n",
      "Wilson High School       93.867718\n",
      "Wright High School       93.333333\n",
      "Name: Student ID, dtype: float64\n"
     ]
    }
   ],
   "source": [
    "# % Passing math by school\r\n",
    "sch_pass_math = school_data_df[school_data_df['Math Score'] >= 70].groupby('School Name')['Student ID'].count() / total_students\r\n",
    "per_sch_pass_math = sch_pass_math * 100\r\n",
    "print(per_sch_pass_math)"
   ]
  },
  {
   "cell_type": "code",
   "execution_count": 26,
   "metadata": {},
   "outputs": [
    {
     "name": "stdout",
     "output_type": "stream",
     "text": [
      "School Name\n",
      "Bailey High School       81.933280\n",
      "Cabrera High School      97.039828\n",
      "Figueroa High School     80.739234\n",
      "Ford High School         79.299014\n",
      "Griffin High School      97.138965\n",
      "Hernandez High School    80.862999\n",
      "Holden High School       96.252927\n",
      "Huang High School        81.316421\n",
      "Johnson High School      81.222432\n",
      "Pena High School         95.945946\n",
      "Rodriguez High School    80.220055\n",
      "Shelton High School      95.854628\n",
      "Thomas High School       97.308869\n",
      "Wilson High School       96.539641\n",
      "Wright High School       96.611111\n",
      "Name: Student ID, dtype: float64\n"
     ]
    }
   ],
   "source": [
    "# % passing reading by school\r\n",
    "sch_pass_reading = school_data_df[school_data_df['Reading Score'] >= 70].groupby('School Name')['Student ID'].count()/total_students\r\n",
    "per_sch_pass_reading = sch_pass_reading * 100\r\n",
    "print(per_sch_pass_reading)"
   ]
  },
  {
   "cell_type": "code",
   "execution_count": 27,
   "metadata": {},
   "outputs": [
    {
     "name": "stdout",
     "output_type": "stream",
     "text": [
      "School Name\n",
      "Bailey High School       54.642283\n",
      "Cabrera High School      91.334769\n",
      "Figueroa High School     53.204476\n",
      "Ford High School         54.289887\n",
      "Griffin High School      90.599455\n",
      "Hernandez High School    53.527508\n",
      "Holden High School       89.227166\n",
      "Huang High School        53.513884\n",
      "Johnson High School      53.539172\n",
      "Pena High School         90.540541\n",
      "Rodriguez High School    52.988247\n",
      "Shelton High School      89.892107\n",
      "Thomas High School       90.948012\n",
      "Wilson High School       90.582567\n",
      "Wright High School       90.333333\n",
      "Name: Student ID, dtype: float64\n"
     ]
    }
   ],
   "source": [
    "# % overall passing by school\r\n",
    "sch_pass_both = school_data_df[(school_data_df['Reading Score'] >= 70) & (school_data_df['Math Score'] >= 70)].groupby('School Name')['Student ID'].count() / total_students * 100\r\n",
    "print(sch_pass_both)"
   ]
  },
  {
   "cell_type": "code",
   "execution_count": 28,
   "metadata": {},
   "outputs": [
    {
     "data": {
      "text/html": "<div>\n<style scoped>\n    .dataframe tbody tr th:only-of-type {\n        vertical-align: middle;\n    }\n\n    .dataframe tbody tr th {\n        vertical-align: top;\n    }\n\n    .dataframe thead th {\n        text-align: right;\n    }\n</style>\n<table border=\"1\" class=\"dataframe\">\n  <thead>\n    <tr style=\"text-align: right;\">\n      <th></th>\n      <th>School Type</th>\n      <th>Total Students</th>\n      <th>Total School Budget</th>\n      <th>Per Student Budget</th>\n      <th>Average Math Score</th>\n      <th>Average Reading Score</th>\n      <th>% Passing Math</th>\n      <th>% Passing Reading</th>\n      <th>% Overall Passing</th>\n    </tr>\n    <tr>\n      <th>School Name</th>\n      <th></th>\n      <th></th>\n      <th></th>\n      <th></th>\n      <th></th>\n      <th></th>\n      <th></th>\n      <th></th>\n      <th></th>\n    </tr>\n  </thead>\n  <tbody>\n    <tr>\n      <th>Bailey High School</th>\n      <td>District</td>\n      <td>4976</td>\n      <td>3124928</td>\n      <td>628.0</td>\n      <td>77.048432</td>\n      <td>81.033963</td>\n      <td>66.680064</td>\n      <td>81.933280</td>\n      <td>54.642283</td>\n    </tr>\n    <tr>\n      <th>Cabrera High School</th>\n      <td>Charter</td>\n      <td>1858</td>\n      <td>1081356</td>\n      <td>582.0</td>\n      <td>83.061895</td>\n      <td>83.975780</td>\n      <td>94.133477</td>\n      <td>97.039828</td>\n      <td>91.334769</td>\n    </tr>\n    <tr>\n      <th>Figueroa High School</th>\n      <td>District</td>\n      <td>2949</td>\n      <td>1884411</td>\n      <td>639.0</td>\n      <td>76.711767</td>\n      <td>81.158020</td>\n      <td>65.988471</td>\n      <td>80.739234</td>\n      <td>53.204476</td>\n    </tr>\n    <tr>\n      <th>Ford High School</th>\n      <td>District</td>\n      <td>2739</td>\n      <td>1763916</td>\n      <td>644.0</td>\n      <td>77.102592</td>\n      <td>80.746258</td>\n      <td>68.309602</td>\n      <td>79.299014</td>\n      <td>54.289887</td>\n    </tr>\n    <tr>\n      <th>Griffin High School</th>\n      <td>Charter</td>\n      <td>1468</td>\n      <td>917500</td>\n      <td>625.0</td>\n      <td>83.351499</td>\n      <td>83.816757</td>\n      <td>93.392371</td>\n      <td>97.138965</td>\n      <td>90.599455</td>\n    </tr>\n  </tbody>\n</table>\n</div>",
      "text/plain": "                     School Type  Total Students  Total School Budget  \\\nSchool Name                                                             \nBailey High School      District            4976              3124928   \nCabrera High School      Charter            1858              1081356   \nFigueroa High School    District            2949              1884411   \nFord High School        District            2739              1763916   \nGriffin High School      Charter            1468               917500   \n\n                      Per Student Budget  Average Math Score  \\\nSchool Name                                                    \nBailey High School                 628.0           77.048432   \nCabrera High School                582.0           83.061895   \nFigueroa High School               639.0           76.711767   \nFord High School                   644.0           77.102592   \nGriffin High School                625.0           83.351499   \n\n                      Average Reading Score  % Passing Math  \\\nSchool Name                                                   \nBailey High School                81.033963       66.680064   \nCabrera High School               83.975780       94.133477   \nFigueroa High School              81.158020       65.988471   \nFord High School                  80.746258       68.309602   \nGriffin High School               83.816757       93.392371   \n\n                      % Passing Reading  % Overall Passing  \nSchool Name                                                 \nBailey High School            81.933280          54.642283  \nCabrera High School           97.039828          91.334769  \nFigueroa High School          80.739234          53.204476  \nFord High School              79.299014          54.289887  \nGriffin High School           97.138965          90.599455  "
     },
     "execution_count": 28,
     "metadata": {},
     "output_type": "execute_result"
    }
   ],
   "source": [
    "# Create df for above \r\n",
    "sch_sum_df = pd.DataFrame({'School Type': school_type,\r\n",
    "                            'Total Students': total_students,\r\n",
    "                            'Total School Budget': school_total_budget,\r\n",
    "                            'Per Student Budget': per_student,\r\n",
    "                            'Average Math Score': school_ave_math,\r\n",
    "                            'Average Reading Score': school_ave_reading,\r\n",
    "                            '% Passing Math': per_sch_pass_math, \r\n",
    "                            '% Passing Reading': per_sch_pass_reading,\r\n",
    "                            '% Overall Passing': sch_pass_both\r\n",
    "                            })\r\n",
    "\r\n",
    "sch_sum_df.head()"
   ]
  },
  {
   "cell_type": "code",
   "execution_count": 29,
   "metadata": {},
   "outputs": [
    {
     "data": {
      "text/html": "<div>\n<style scoped>\n    .dataframe tbody tr th:only-of-type {\n        vertical-align: middle;\n    }\n\n    .dataframe tbody tr th {\n        vertical-align: top;\n    }\n\n    .dataframe thead th {\n        text-align: right;\n    }\n</style>\n<table border=\"1\" class=\"dataframe\">\n  <thead>\n    <tr style=\"text-align: right;\">\n      <th></th>\n      <th>School Type</th>\n      <th>Total Students</th>\n      <th>Total School Budget</th>\n      <th>Per Student Budget</th>\n      <th>Average Math Score</th>\n      <th>Average Reading Score</th>\n      <th>% Passing Math</th>\n      <th>% Passing Reading</th>\n      <th>% Overall Passing</th>\n    </tr>\n    <tr>\n      <th>School Name</th>\n      <th></th>\n      <th></th>\n      <th></th>\n      <th></th>\n      <th></th>\n      <th></th>\n      <th></th>\n      <th></th>\n      <th></th>\n    </tr>\n  </thead>\n  <tbody>\n    <tr>\n      <th>Bailey High School</th>\n      <td>District</td>\n      <td>4976</td>\n      <td>3124928</td>\n      <td>628.0</td>\n      <td>77.048432</td>\n      <td>81.033963</td>\n      <td>66.680064</td>\n      <td>81.933280</td>\n      <td>54.642283</td>\n    </tr>\n    <tr>\n      <th>Cabrera High School</th>\n      <td>Charter</td>\n      <td>1858</td>\n      <td>1081356</td>\n      <td>582.0</td>\n      <td>83.061895</td>\n      <td>83.975780</td>\n      <td>94.133477</td>\n      <td>97.039828</td>\n      <td>91.334769</td>\n    </tr>\n    <tr>\n      <th>Figueroa High School</th>\n      <td>District</td>\n      <td>2949</td>\n      <td>1884411</td>\n      <td>639.0</td>\n      <td>76.711767</td>\n      <td>81.158020</td>\n      <td>65.988471</td>\n      <td>80.739234</td>\n      <td>53.204476</td>\n    </tr>\n    <tr>\n      <th>Ford High School</th>\n      <td>District</td>\n      <td>2739</td>\n      <td>1763916</td>\n      <td>644.0</td>\n      <td>77.102592</td>\n      <td>80.746258</td>\n      <td>68.309602</td>\n      <td>79.299014</td>\n      <td>54.289887</td>\n    </tr>\n    <tr>\n      <th>Griffin High School</th>\n      <td>Charter</td>\n      <td>1468</td>\n      <td>917500</td>\n      <td>625.0</td>\n      <td>83.351499</td>\n      <td>83.816757</td>\n      <td>93.392371</td>\n      <td>97.138965</td>\n      <td>90.599455</td>\n    </tr>\n  </tbody>\n</table>\n</div>",
      "text/plain": "                     School Type  Total Students  Total School Budget  \\\nSchool Name                                                             \nBailey High School      District            4976              3124928   \nCabrera High School      Charter            1858              1081356   \nFigueroa High School    District            2949              1884411   \nFord High School        District            2739              1763916   \nGriffin High School      Charter            1468               917500   \n\n                      Per Student Budget  Average Math Score  \\\nSchool Name                                                    \nBailey High School                 628.0           77.048432   \nCabrera High School                582.0           83.061895   \nFigueroa High School               639.0           76.711767   \nFord High School                   644.0           77.102592   \nGriffin High School                625.0           83.351499   \n\n                      Average Reading Score  % Passing Math  \\\nSchool Name                                                   \nBailey High School                81.033963       66.680064   \nCabrera High School               83.975780       94.133477   \nFigueroa High School              81.158020       65.988471   \nFord High School                  80.746258       68.309602   \nGriffin High School               83.816757       93.392371   \n\n                      % Passing Reading  % Overall Passing  \nSchool Name                                                 \nBailey High School            81.933280          54.642283  \nCabrera High School           97.039828          91.334769  \nFigueroa High School          80.739234          53.204476  \nFord High School              79.299014          54.289887  \nGriffin High School           97.138965          90.599455  "
     },
     "execution_count": 29,
     "metadata": {},
     "output_type": "execute_result"
    }
   ],
   "source": [
    "sch_sum_df.style.format({'Total Students': '{:.}',\r\n",
    "                        'Per School Budget': '{:.0f}',\r\n",
    "                        'Total School Budget': '{:.2f}',\r\n",
    "                        'Average Math Score': '{:.2f}',\r\n",
    "                        'Average Reading Score': '{:.2f}',\r\n",
    "                        '% Passing Math': '{:.2f}',\r\n",
    "                        '% Passing Reading': '{:.2f}',\r\n",
    "                        '% Overall Passing': '{:.2f}'})\r\n",
    "\r\n",
    "sch_sum_df.head()"
   ]
  },
  {
   "cell_type": "code",
   "execution_count": 30,
   "metadata": {},
   "outputs": [
    {
     "data": {
      "text/html": "<div>\n<style scoped>\n    .dataframe tbody tr th:only-of-type {\n        vertical-align: middle;\n    }\n\n    .dataframe tbody tr th {\n        vertical-align: top;\n    }\n\n    .dataframe thead th {\n        text-align: right;\n    }\n</style>\n<table border=\"1\" class=\"dataframe\">\n  <thead>\n    <tr style=\"text-align: right;\">\n      <th></th>\n      <th>School Type</th>\n      <th>Total Students</th>\n      <th>Total School Budget</th>\n      <th>Per Student Budget</th>\n      <th>Average Math Score</th>\n      <th>Average Reading Score</th>\n      <th>% Passing Math</th>\n      <th>% Passing Reading</th>\n      <th>% Overall Passing</th>\n    </tr>\n    <tr>\n      <th>School Name</th>\n      <th></th>\n      <th></th>\n      <th></th>\n      <th></th>\n      <th></th>\n      <th></th>\n      <th></th>\n      <th></th>\n      <th></th>\n    </tr>\n  </thead>\n  <tbody>\n    <tr>\n      <th>Cabrera High School</th>\n      <td>Charter</td>\n      <td>1858</td>\n      <td>1081356</td>\n      <td>582.0</td>\n      <td>83.061895</td>\n      <td>83.975780</td>\n      <td>94.133477</td>\n      <td>97.039828</td>\n      <td>91.334769</td>\n    </tr>\n    <tr>\n      <th>Thomas High School</th>\n      <td>Charter</td>\n      <td>1635</td>\n      <td>1043130</td>\n      <td>638.0</td>\n      <td>83.418349</td>\n      <td>83.848930</td>\n      <td>93.272171</td>\n      <td>97.308869</td>\n      <td>90.948012</td>\n    </tr>\n    <tr>\n      <th>Griffin High School</th>\n      <td>Charter</td>\n      <td>1468</td>\n      <td>917500</td>\n      <td>625.0</td>\n      <td>83.351499</td>\n      <td>83.816757</td>\n      <td>93.392371</td>\n      <td>97.138965</td>\n      <td>90.599455</td>\n    </tr>\n    <tr>\n      <th>Wilson High School</th>\n      <td>Charter</td>\n      <td>2283</td>\n      <td>1319574</td>\n      <td>578.0</td>\n      <td>83.274201</td>\n      <td>83.989488</td>\n      <td>93.867718</td>\n      <td>96.539641</td>\n      <td>90.582567</td>\n    </tr>\n    <tr>\n      <th>Pena High School</th>\n      <td>Charter</td>\n      <td>962</td>\n      <td>585858</td>\n      <td>609.0</td>\n      <td>83.839917</td>\n      <td>84.044699</td>\n      <td>94.594595</td>\n      <td>95.945946</td>\n      <td>90.540541</td>\n    </tr>\n  </tbody>\n</table>\n</div>",
      "text/plain": "                    School Type  Total Students  Total School Budget  \\\nSchool Name                                                            \nCabrera High School     Charter            1858              1081356   \nThomas High School      Charter            1635              1043130   \nGriffin High School     Charter            1468               917500   \nWilson High School      Charter            2283              1319574   \nPena High School        Charter             962               585858   \n\n                     Per Student Budget  Average Math Score  \\\nSchool Name                                                   \nCabrera High School               582.0           83.061895   \nThomas High School                638.0           83.418349   \nGriffin High School               625.0           83.351499   \nWilson High School                578.0           83.274201   \nPena High School                  609.0           83.839917   \n\n                     Average Reading Score  % Passing Math  % Passing Reading  \\\nSchool Name                                                                     \nCabrera High School              83.975780       94.133477          97.039828   \nThomas High School               83.848930       93.272171          97.308869   \nGriffin High School              83.816757       93.392371          97.138965   \nWilson High School               83.989488       93.867718          96.539641   \nPena High School                 84.044699       94.594595          95.945946   \n\n                     % Overall Passing  \nSchool Name                             \nCabrera High School          91.334769  \nThomas High School           90.948012  \nGriffin High School          90.599455  \nWilson High School           90.582567  \nPena High School             90.540541  "
     },
     "execution_count": 30,
     "metadata": {},
     "output_type": "execute_result"
    }
   ],
   "source": [
    "# Top schools by % overall passing - top 5\r\n",
    "sch_sum_df = sch_sum_df.sort_values(\"% Overall Passing\", ascending=False)\r\n",
    "sch_sum_df.head(5)"
   ]
  },
  {
   "cell_type": "code",
   "execution_count": 31,
   "metadata": {},
   "outputs": [
    {
     "data": {
      "text/html": "<div>\n<style scoped>\n    .dataframe tbody tr th:only-of-type {\n        vertical-align: middle;\n    }\n\n    .dataframe tbody tr th {\n        vertical-align: top;\n    }\n\n    .dataframe thead th {\n        text-align: right;\n    }\n</style>\n<table border=\"1\" class=\"dataframe\">\n  <thead>\n    <tr style=\"text-align: right;\">\n      <th></th>\n      <th>School Type</th>\n      <th>Total Students</th>\n      <th>Total School Budget</th>\n      <th>Per Student Budget</th>\n      <th>Average Math Score</th>\n      <th>Average Reading Score</th>\n      <th>% Passing Math</th>\n      <th>% Passing Reading</th>\n      <th>% Overall Passing</th>\n    </tr>\n    <tr>\n      <th>School Name</th>\n      <th></th>\n      <th></th>\n      <th></th>\n      <th></th>\n      <th></th>\n      <th></th>\n      <th></th>\n      <th></th>\n      <th></th>\n    </tr>\n  </thead>\n  <tbody>\n    <tr>\n      <th>Rodriguez High School</th>\n      <td>District</td>\n      <td>3999</td>\n      <td>2547363</td>\n      <td>637.0</td>\n      <td>76.842711</td>\n      <td>80.744686</td>\n      <td>66.366592</td>\n      <td>80.220055</td>\n      <td>52.988247</td>\n    </tr>\n    <tr>\n      <th>Figueroa High School</th>\n      <td>District</td>\n      <td>2949</td>\n      <td>1884411</td>\n      <td>639.0</td>\n      <td>76.711767</td>\n      <td>81.158020</td>\n      <td>65.988471</td>\n      <td>80.739234</td>\n      <td>53.204476</td>\n    </tr>\n    <tr>\n      <th>Huang High School</th>\n      <td>District</td>\n      <td>2917</td>\n      <td>1910635</td>\n      <td>655.0</td>\n      <td>76.629414</td>\n      <td>81.182722</td>\n      <td>65.683922</td>\n      <td>81.316421</td>\n      <td>53.513884</td>\n    </tr>\n    <tr>\n      <th>Hernandez High School</th>\n      <td>District</td>\n      <td>4635</td>\n      <td>3022020</td>\n      <td>652.0</td>\n      <td>77.289752</td>\n      <td>80.934412</td>\n      <td>66.752967</td>\n      <td>80.862999</td>\n      <td>53.527508</td>\n    </tr>\n    <tr>\n      <th>Johnson High School</th>\n      <td>District</td>\n      <td>4761</td>\n      <td>3094650</td>\n      <td>650.0</td>\n      <td>77.072464</td>\n      <td>80.966394</td>\n      <td>66.057551</td>\n      <td>81.222432</td>\n      <td>53.539172</td>\n    </tr>\n  </tbody>\n</table>\n</div>",
      "text/plain": "                      School Type  Total Students  Total School Budget  \\\nSchool Name                                                              \nRodriguez High School    District            3999              2547363   \nFigueroa High School     District            2949              1884411   \nHuang High School        District            2917              1910635   \nHernandez High School    District            4635              3022020   \nJohnson High School      District            4761              3094650   \n\n                       Per Student Budget  Average Math Score  \\\nSchool Name                                                     \nRodriguez High School               637.0           76.842711   \nFigueroa High School                639.0           76.711767   \nHuang High School                   655.0           76.629414   \nHernandez High School               652.0           77.289752   \nJohnson High School                 650.0           77.072464   \n\n                       Average Reading Score  % Passing Math  \\\nSchool Name                                                    \nRodriguez High School              80.744686       66.366592   \nFigueroa High School               81.158020       65.988471   \nHuang High School                  81.182722       65.683922   \nHernandez High School              80.934412       66.752967   \nJohnson High School                80.966394       66.057551   \n\n                       % Passing Reading  % Overall Passing  \nSchool Name                                                  \nRodriguez High School          80.220055          52.988247  \nFigueroa High School           80.739234          53.204476  \nHuang High School              81.316421          53.513884  \nHernandez High School          80.862999          53.527508  \nJohnson High School            81.222432          53.539172  "
     },
     "execution_count": 31,
     "metadata": {},
     "output_type": "execute_result"
    }
   ],
   "source": [
    "# Bottom schools by % overall passing - bottom 5\r\n",
    "\r\n",
    "sch_sum_df = sch_sum_df.sort_values(\"% Overall Passing\", ascending=True)\r\n",
    "sch_sum_df.head(5)"
   ]
  },
  {
   "cell_type": "code",
   "execution_count": 32,
   "metadata": {},
   "outputs": [],
   "source": [
    "# Maths scores by grade - average Math Score for grades 9, 10, 11, 12 at each school\r\n",
    "ninth_math = student_data_original_df.loc[student_data_original_df['grade'] == '9th'].groupby('school_name')[\"math_score\"].mean()\r\n",
    "tenth_math = student_data_original_df.loc[student_data_original_df['grade'] == '10th'].groupby('school_name')[\"math_score\"].mean()\r\n",
    "eleventh_math = student_data_original_df.loc[student_data_original_df['grade'] == '11th'].groupby('school_name')[\"math_score\"].mean()\r\n",
    "twelfth_math = student_data_original_df.loc[student_data_original_df['grade'] == '12th'].groupby('school_name')[\"math_score\"].mean()"
   ]
  },
  {
   "cell_type": "code",
   "execution_count": 33,
   "metadata": {},
   "outputs": [
    {
     "name": "stdout",
     "output_type": "stream",
     "text": [
      "                             9th       10th       11th       12th\n",
      "School                                                           \n",
      "Bailey High School     77.083676  76.996772  77.515588  76.492218\n",
      "Cabrera High School    83.094697  83.154506  82.765560  83.277487\n",
      "Figueroa High School   76.403037  76.539974  76.884344  77.151369\n",
      "Ford High School       77.361345  77.672316  76.918058  76.179963\n",
      "Griffin High School    82.044010  84.229064  83.842105  83.356164\n",
      "Hernandez High School  77.438495  77.337408  77.136029  77.186567\n",
      "Holden High School     83.787402  83.429825  85.000000  82.855422\n",
      "Huang High School      77.027251  75.908735  76.446602  77.225641\n",
      "Johnson High School    77.187857  76.691117  77.491653  76.863248\n",
      "Pena High School       83.625455  83.372000  84.328125  84.121547\n",
      "Rodriguez High School  76.859966  76.612500  76.395626  77.690748\n",
      "Shelton High School    83.420755  82.917411  83.383495  83.778976\n",
      "Thomas High School     83.590022  83.087886  83.498795  83.497041\n",
      "Wilson High School     83.085578  83.724422  83.195326  83.035794\n",
      "Wright High School     83.264706  84.010288  83.836782  83.644986\n"
     ]
    }
   ],
   "source": [
    "# Create math score by grade df\r\n",
    "math_scores = pd.DataFrame({\r\n",
    "        \"9th\": ninth_math,\r\n",
    "        \"10th\": tenth_math,\r\n",
    "        \"11th\": eleventh_math,\r\n",
    "        \"12th\": twelfth_math\r\n",
    "})\r\n",
    "math_scores = math_scores[['9th', '10th', '11th', '12th']]\r\n",
    "math_scores.index.name = \"School\"\r\n",
    "print(math_scores)"
   ]
  },
  {
   "cell_type": "code",
   "execution_count": 34,
   "metadata": {},
   "outputs": [
    {
     "data": {
      "text/html": "<style  type=\"text/css\" >\n</style><table id=\"T_e1f0c_\" ><thead>    <tr>        <th class=\"blank level0\" ></th>        <th class=\"col_heading level0 col0\" >9th</th>        <th class=\"col_heading level0 col1\" >10th</th>        <th class=\"col_heading level0 col2\" >11th</th>        <th class=\"col_heading level0 col3\" >12th</th>    </tr>    <tr>        <th class=\"index_name level0\" >School</th>        <th class=\"blank\" ></th>        <th class=\"blank\" ></th>        <th class=\"blank\" ></th>        <th class=\"blank\" ></th>    </tr></thead><tbody>\n                <tr>\n                        <th id=\"T_e1f0c_level0_row0\" class=\"row_heading level0 row0\" >Bailey High School</th>\n                        <td id=\"T_e1f0c_row0_col0\" class=\"data row0 col0\" >77.08</td>\n                        <td id=\"T_e1f0c_row0_col1\" class=\"data row0 col1\" >77.00</td>\n                        <td id=\"T_e1f0c_row0_col2\" class=\"data row0 col2\" >77.52</td>\n                        <td id=\"T_e1f0c_row0_col3\" class=\"data row0 col3\" >76.49</td>\n            </tr>\n            <tr>\n                        <th id=\"T_e1f0c_level0_row1\" class=\"row_heading level0 row1\" >Cabrera High School</th>\n                        <td id=\"T_e1f0c_row1_col0\" class=\"data row1 col0\" >83.09</td>\n                        <td id=\"T_e1f0c_row1_col1\" class=\"data row1 col1\" >83.15</td>\n                        <td id=\"T_e1f0c_row1_col2\" class=\"data row1 col2\" >82.77</td>\n                        <td id=\"T_e1f0c_row1_col3\" class=\"data row1 col3\" >83.28</td>\n            </tr>\n            <tr>\n                        <th id=\"T_e1f0c_level0_row2\" class=\"row_heading level0 row2\" >Figueroa High School</th>\n                        <td id=\"T_e1f0c_row2_col0\" class=\"data row2 col0\" >76.40</td>\n                        <td id=\"T_e1f0c_row2_col1\" class=\"data row2 col1\" >76.54</td>\n                        <td id=\"T_e1f0c_row2_col2\" class=\"data row2 col2\" >76.88</td>\n                        <td id=\"T_e1f0c_row2_col3\" class=\"data row2 col3\" >77.15</td>\n            </tr>\n            <tr>\n                        <th id=\"T_e1f0c_level0_row3\" class=\"row_heading level0 row3\" >Ford High School</th>\n                        <td id=\"T_e1f0c_row3_col0\" class=\"data row3 col0\" >77.36</td>\n                        <td id=\"T_e1f0c_row3_col1\" class=\"data row3 col1\" >77.67</td>\n                        <td id=\"T_e1f0c_row3_col2\" class=\"data row3 col2\" >76.92</td>\n                        <td id=\"T_e1f0c_row3_col3\" class=\"data row3 col3\" >76.18</td>\n            </tr>\n            <tr>\n                        <th id=\"T_e1f0c_level0_row4\" class=\"row_heading level0 row4\" >Griffin High School</th>\n                        <td id=\"T_e1f0c_row4_col0\" class=\"data row4 col0\" >82.04</td>\n                        <td id=\"T_e1f0c_row4_col1\" class=\"data row4 col1\" >84.23</td>\n                        <td id=\"T_e1f0c_row4_col2\" class=\"data row4 col2\" >83.84</td>\n                        <td id=\"T_e1f0c_row4_col3\" class=\"data row4 col3\" >83.36</td>\n            </tr>\n            <tr>\n                        <th id=\"T_e1f0c_level0_row5\" class=\"row_heading level0 row5\" >Hernandez High School</th>\n                        <td id=\"T_e1f0c_row5_col0\" class=\"data row5 col0\" >77.44</td>\n                        <td id=\"T_e1f0c_row5_col1\" class=\"data row5 col1\" >77.34</td>\n                        <td id=\"T_e1f0c_row5_col2\" class=\"data row5 col2\" >77.14</td>\n                        <td id=\"T_e1f0c_row5_col3\" class=\"data row5 col3\" >77.19</td>\n            </tr>\n            <tr>\n                        <th id=\"T_e1f0c_level0_row6\" class=\"row_heading level0 row6\" >Holden High School</th>\n                        <td id=\"T_e1f0c_row6_col0\" class=\"data row6 col0\" >83.79</td>\n                        <td id=\"T_e1f0c_row6_col1\" class=\"data row6 col1\" >83.43</td>\n                        <td id=\"T_e1f0c_row6_col2\" class=\"data row6 col2\" >85.00</td>\n                        <td id=\"T_e1f0c_row6_col3\" class=\"data row6 col3\" >82.86</td>\n            </tr>\n            <tr>\n                        <th id=\"T_e1f0c_level0_row7\" class=\"row_heading level0 row7\" >Huang High School</th>\n                        <td id=\"T_e1f0c_row7_col0\" class=\"data row7 col0\" >77.03</td>\n                        <td id=\"T_e1f0c_row7_col1\" class=\"data row7 col1\" >75.91</td>\n                        <td id=\"T_e1f0c_row7_col2\" class=\"data row7 col2\" >76.45</td>\n                        <td id=\"T_e1f0c_row7_col3\" class=\"data row7 col3\" >77.23</td>\n            </tr>\n            <tr>\n                        <th id=\"T_e1f0c_level0_row8\" class=\"row_heading level0 row8\" >Johnson High School</th>\n                        <td id=\"T_e1f0c_row8_col0\" class=\"data row8 col0\" >77.19</td>\n                        <td id=\"T_e1f0c_row8_col1\" class=\"data row8 col1\" >76.69</td>\n                        <td id=\"T_e1f0c_row8_col2\" class=\"data row8 col2\" >77.49</td>\n                        <td id=\"T_e1f0c_row8_col3\" class=\"data row8 col3\" >76.86</td>\n            </tr>\n            <tr>\n                        <th id=\"T_e1f0c_level0_row9\" class=\"row_heading level0 row9\" >Pena High School</th>\n                        <td id=\"T_e1f0c_row9_col0\" class=\"data row9 col0\" >83.63</td>\n                        <td id=\"T_e1f0c_row9_col1\" class=\"data row9 col1\" >83.37</td>\n                        <td id=\"T_e1f0c_row9_col2\" class=\"data row9 col2\" >84.33</td>\n                        <td id=\"T_e1f0c_row9_col3\" class=\"data row9 col3\" >84.12</td>\n            </tr>\n            <tr>\n                        <th id=\"T_e1f0c_level0_row10\" class=\"row_heading level0 row10\" >Rodriguez High School</th>\n                        <td id=\"T_e1f0c_row10_col0\" class=\"data row10 col0\" >76.86</td>\n                        <td id=\"T_e1f0c_row10_col1\" class=\"data row10 col1\" >76.61</td>\n                        <td id=\"T_e1f0c_row10_col2\" class=\"data row10 col2\" >76.40</td>\n                        <td id=\"T_e1f0c_row10_col3\" class=\"data row10 col3\" >77.69</td>\n            </tr>\n            <tr>\n                        <th id=\"T_e1f0c_level0_row11\" class=\"row_heading level0 row11\" >Shelton High School</th>\n                        <td id=\"T_e1f0c_row11_col0\" class=\"data row11 col0\" >83.42</td>\n                        <td id=\"T_e1f0c_row11_col1\" class=\"data row11 col1\" >82.92</td>\n                        <td id=\"T_e1f0c_row11_col2\" class=\"data row11 col2\" >83.38</td>\n                        <td id=\"T_e1f0c_row11_col3\" class=\"data row11 col3\" >83.78</td>\n            </tr>\n            <tr>\n                        <th id=\"T_e1f0c_level0_row12\" class=\"row_heading level0 row12\" >Thomas High School</th>\n                        <td id=\"T_e1f0c_row12_col0\" class=\"data row12 col0\" >83.59</td>\n                        <td id=\"T_e1f0c_row12_col1\" class=\"data row12 col1\" >83.09</td>\n                        <td id=\"T_e1f0c_row12_col2\" class=\"data row12 col2\" >83.50</td>\n                        <td id=\"T_e1f0c_row12_col3\" class=\"data row12 col3\" >83.50</td>\n            </tr>\n            <tr>\n                        <th id=\"T_e1f0c_level0_row13\" class=\"row_heading level0 row13\" >Wilson High School</th>\n                        <td id=\"T_e1f0c_row13_col0\" class=\"data row13 col0\" >83.09</td>\n                        <td id=\"T_e1f0c_row13_col1\" class=\"data row13 col1\" >83.72</td>\n                        <td id=\"T_e1f0c_row13_col2\" class=\"data row13 col2\" >83.20</td>\n                        <td id=\"T_e1f0c_row13_col3\" class=\"data row13 col3\" >83.04</td>\n            </tr>\n            <tr>\n                        <th id=\"T_e1f0c_level0_row14\" class=\"row_heading level0 row14\" >Wright High School</th>\n                        <td id=\"T_e1f0c_row14_col0\" class=\"data row14 col0\" >83.26</td>\n                        <td id=\"T_e1f0c_row14_col1\" class=\"data row14 col1\" >84.01</td>\n                        <td id=\"T_e1f0c_row14_col2\" class=\"data row14 col2\" >83.84</td>\n                        <td id=\"T_e1f0c_row14_col3\" class=\"data row14 col3\" >83.64</td>\n            </tr>\n    </tbody></table>",
      "text/plain": "<pandas.io.formats.style.Styler at 0x201719d4e50>"
     },
     "execution_count": 34,
     "metadata": {},
     "output_type": "execute_result"
    }
   ],
   "source": [
    "# Format df\r\n",
    "math_scores.style.format({'9th': '{:.2f}', \r\n",
    "                          \"10th\": '{:.2f}', \r\n",
    "                          \"11th\": \"{:.2f}\", \r\n",
    "                          \"12th\": \"{:.2f}\"})"
   ]
  },
  {
   "cell_type": "code",
   "execution_count": 35,
   "metadata": {},
   "outputs": [],
   "source": [
    "# Reading scores by grade - average Reading Score for grades 9, 10, 11, 12 at each school\r\n",
    "ninth_reading = student_data_original_df.loc[student_data_original_df['grade'] == '9th'].groupby('school_name')['reading_score'].mean()\r\n",
    "tenth_reading = student_data_original_df.loc[student_data_original_df['grade'] == '10th'].groupby('school_name')['reading_score'].mean()\r\n",
    "eleventh_reading = student_data_original_df.loc[student_data_original_df['grade'] == '11th'].groupby('school_name')['reading_score'].mean()\r\n",
    "twelfth_reading = student_data_original_df.loc[student_data_original_df['grade'] == '12th'].groupby('school_name')['reading_score'].mean()\r\n"
   ]
  },
  {
   "cell_type": "code",
   "execution_count": 36,
   "metadata": {},
   "outputs": [],
   "source": [
    "# Create a df\r\n",
    "reading_scores = pd.DataFrame({\r\n",
    "    '9th': ninth_reading, \r\n",
    "    '10th': tenth_reading, \r\n",
    "    '11th': eleventh_reading,\r\n",
    "    '12th': twelfth_reading\r\n",
    "})\r\n",
    "reading_scores = reading_scores[['9th', '10th', '11th', '12th']]\r\n",
    "reading_scores.index.name = 'School'"
   ]
  },
  {
   "cell_type": "code",
   "execution_count": 37,
   "metadata": {},
   "outputs": [
    {
     "data": {
      "text/html": "<style  type=\"text/css\" >\n</style><table id=\"T_92566_\" ><thead>    <tr>        <th class=\"blank level0\" ></th>        <th class=\"col_heading level0 col0\" >9th</th>        <th class=\"col_heading level0 col1\" >10th</th>        <th class=\"col_heading level0 col2\" >11th</th>        <th class=\"col_heading level0 col3\" >12th</th>    </tr>    <tr>        <th class=\"index_name level0\" >School</th>        <th class=\"blank\" ></th>        <th class=\"blank\" ></th>        <th class=\"blank\" ></th>        <th class=\"blank\" ></th>    </tr></thead><tbody>\n                <tr>\n                        <th id=\"T_92566_level0_row0\" class=\"row_heading level0 row0\" >Bailey High School</th>\n                        <td id=\"T_92566_row0_col0\" class=\"data row0 col0\" >81.30</td>\n                        <td id=\"T_92566_row0_col1\" class=\"data row0 col1\" >80.91</td>\n                        <td id=\"T_92566_row0_col2\" class=\"data row0 col2\" >80.95</td>\n                        <td id=\"T_92566_row0_col3\" class=\"data row0 col3\" >80.91</td>\n            </tr>\n            <tr>\n                        <th id=\"T_92566_level0_row1\" class=\"row_heading level0 row1\" >Cabrera High School</th>\n                        <td id=\"T_92566_row1_col0\" class=\"data row1 col0\" >83.68</td>\n                        <td id=\"T_92566_row1_col1\" class=\"data row1 col1\" >84.25</td>\n                        <td id=\"T_92566_row1_col2\" class=\"data row1 col2\" >83.79</td>\n                        <td id=\"T_92566_row1_col3\" class=\"data row1 col3\" >84.29</td>\n            </tr>\n            <tr>\n                        <th id=\"T_92566_level0_row2\" class=\"row_heading level0 row2\" >Figueroa High School</th>\n                        <td id=\"T_92566_row2_col0\" class=\"data row2 col0\" >81.20</td>\n                        <td id=\"T_92566_row2_col1\" class=\"data row2 col1\" >81.41</td>\n                        <td id=\"T_92566_row2_col2\" class=\"data row2 col2\" >80.64</td>\n                        <td id=\"T_92566_row2_col3\" class=\"data row2 col3\" >81.38</td>\n            </tr>\n            <tr>\n                        <th id=\"T_92566_level0_row3\" class=\"row_heading level0 row3\" >Ford High School</th>\n                        <td id=\"T_92566_row3_col0\" class=\"data row3 col0\" >80.63</td>\n                        <td id=\"T_92566_row3_col1\" class=\"data row3 col1\" >81.26</td>\n                        <td id=\"T_92566_row3_col2\" class=\"data row3 col2\" >80.40</td>\n                        <td id=\"T_92566_row3_col3\" class=\"data row3 col3\" >80.66</td>\n            </tr>\n            <tr>\n                        <th id=\"T_92566_level0_row4\" class=\"row_heading level0 row4\" >Griffin High School</th>\n                        <td id=\"T_92566_row4_col0\" class=\"data row4 col0\" >83.37</td>\n                        <td id=\"T_92566_row4_col1\" class=\"data row4 col1\" >83.71</td>\n                        <td id=\"T_92566_row4_col2\" class=\"data row4 col2\" >84.29</td>\n                        <td id=\"T_92566_row4_col3\" class=\"data row4 col3\" >84.01</td>\n            </tr>\n            <tr>\n                        <th id=\"T_92566_level0_row5\" class=\"row_heading level0 row5\" >Hernandez High School</th>\n                        <td id=\"T_92566_row5_col0\" class=\"data row5 col0\" >80.87</td>\n                        <td id=\"T_92566_row5_col1\" class=\"data row5 col1\" >80.66</td>\n                        <td id=\"T_92566_row5_col2\" class=\"data row5 col2\" >81.40</td>\n                        <td id=\"T_92566_row5_col3\" class=\"data row5 col3\" >80.86</td>\n            </tr>\n            <tr>\n                        <th id=\"T_92566_level0_row6\" class=\"row_heading level0 row6\" >Holden High School</th>\n                        <td id=\"T_92566_row6_col0\" class=\"data row6 col0\" >83.68</td>\n                        <td id=\"T_92566_row6_col1\" class=\"data row6 col1\" >83.32</td>\n                        <td id=\"T_92566_row6_col2\" class=\"data row6 col2\" >83.82</td>\n                        <td id=\"T_92566_row6_col3\" class=\"data row6 col3\" >84.70</td>\n            </tr>\n            <tr>\n                        <th id=\"T_92566_level0_row7\" class=\"row_heading level0 row7\" >Huang High School</th>\n                        <td id=\"T_92566_row7_col0\" class=\"data row7 col0\" >81.29</td>\n                        <td id=\"T_92566_row7_col1\" class=\"data row7 col1\" >81.51</td>\n                        <td id=\"T_92566_row7_col2\" class=\"data row7 col2\" >81.42</td>\n                        <td id=\"T_92566_row7_col3\" class=\"data row7 col3\" >80.31</td>\n            </tr>\n            <tr>\n                        <th id=\"T_92566_level0_row8\" class=\"row_heading level0 row8\" >Johnson High School</th>\n                        <td id=\"T_92566_row8_col0\" class=\"data row8 col0\" >81.26</td>\n                        <td id=\"T_92566_row8_col1\" class=\"data row8 col1\" >80.77</td>\n                        <td id=\"T_92566_row8_col2\" class=\"data row8 col2\" >80.62</td>\n                        <td id=\"T_92566_row8_col3\" class=\"data row8 col3\" >81.23</td>\n            </tr>\n            <tr>\n                        <th id=\"T_92566_level0_row9\" class=\"row_heading level0 row9\" >Pena High School</th>\n                        <td id=\"T_92566_row9_col0\" class=\"data row9 col0\" >83.81</td>\n                        <td id=\"T_92566_row9_col1\" class=\"data row9 col1\" >83.61</td>\n                        <td id=\"T_92566_row9_col2\" class=\"data row9 col2\" >84.34</td>\n                        <td id=\"T_92566_row9_col3\" class=\"data row9 col3\" >84.59</td>\n            </tr>\n            <tr>\n                        <th id=\"T_92566_level0_row10\" class=\"row_heading level0 row10\" >Rodriguez High School</th>\n                        <td id=\"T_92566_row10_col0\" class=\"data row10 col0\" >80.99</td>\n                        <td id=\"T_92566_row10_col1\" class=\"data row10 col1\" >80.63</td>\n                        <td id=\"T_92566_row10_col2\" class=\"data row10 col2\" >80.86</td>\n                        <td id=\"T_92566_row10_col3\" class=\"data row10 col3\" >80.38</td>\n            </tr>\n            <tr>\n                        <th id=\"T_92566_level0_row11\" class=\"row_heading level0 row11\" >Shelton High School</th>\n                        <td id=\"T_92566_row11_col0\" class=\"data row11 col0\" >84.12</td>\n                        <td id=\"T_92566_row11_col1\" class=\"data row11 col1\" >83.44</td>\n                        <td id=\"T_92566_row11_col2\" class=\"data row11 col2\" >84.37</td>\n                        <td id=\"T_92566_row11_col3\" class=\"data row11 col3\" >82.78</td>\n            </tr>\n            <tr>\n                        <th id=\"T_92566_level0_row12\" class=\"row_heading level0 row12\" >Thomas High School</th>\n                        <td id=\"T_92566_row12_col0\" class=\"data row12 col0\" >83.73</td>\n                        <td id=\"T_92566_row12_col1\" class=\"data row12 col1\" >84.25</td>\n                        <td id=\"T_92566_row12_col2\" class=\"data row12 col2\" >83.59</td>\n                        <td id=\"T_92566_row12_col3\" class=\"data row12 col3\" >83.83</td>\n            </tr>\n            <tr>\n                        <th id=\"T_92566_level0_row13\" class=\"row_heading level0 row13\" >Wilson High School</th>\n                        <td id=\"T_92566_row13_col0\" class=\"data row13 col0\" >83.94</td>\n                        <td id=\"T_92566_row13_col1\" class=\"data row13 col1\" >84.02</td>\n                        <td id=\"T_92566_row13_col2\" class=\"data row13 col2\" >83.76</td>\n                        <td id=\"T_92566_row13_col3\" class=\"data row13 col3\" >84.32</td>\n            </tr>\n            <tr>\n                        <th id=\"T_92566_level0_row14\" class=\"row_heading level0 row14\" >Wright High School</th>\n                        <td id=\"T_92566_row14_col0\" class=\"data row14 col0\" >83.83</td>\n                        <td id=\"T_92566_row14_col1\" class=\"data row14 col1\" >83.81</td>\n                        <td id=\"T_92566_row14_col2\" class=\"data row14 col2\" >84.16</td>\n                        <td id=\"T_92566_row14_col3\" class=\"data row14 col3\" >84.07</td>\n            </tr>\n    </tbody></table>",
      "text/plain": "<pandas.io.formats.style.Styler at 0x20171a07490>"
     },
     "execution_count": 37,
     "metadata": {},
     "output_type": "execute_result"
    }
   ],
   "source": [
    "# Format the reading df\r\n",
    "reading_scores.style.format({'9th': '{:.2f}',\r\n",
    "                            '10th': '{:.2f}',\r\n",
    "                            '11th': '{:.2f}',\r\n",
    "                            '12th': '{:.2f}'})"
   ]
  },
  {
   "cell_type": "code",
   "execution_count": 38,
   "metadata": {},
   "outputs": [],
   "source": [
    "# Scores by spending - spending ranges < $584, $585-629, $630-644, > $645 - ave math/reading/% passing math/% passing reading/% passing overall\r\n",
    "bins = [0, 584.99, 629.99, 644.99, 674.99]\r\n",
    "group_spending = ['< $585', '$585 - $629', '$630 - $644', '>$645']\r\n",
    "school_data_df['group_spending'] = pd.cut(school_data_df['Budget']/school_data_df['Size'],bins, labels = group_spending)\r\n",
    "by_spending = school_data_df.groupby('group_spending')"
   ]
  },
  {
   "cell_type": "code",
   "execution_count": 39,
   "metadata": {},
   "outputs": [],
   "source": [
    "# Calculate ave math/reading/% passing math/% passing reading/% passing overall\r\n",
    "math_by_spend = by_spending['Math Score'].mean()\r\n",
    "reading_by_spend = by_spending['Reading Score'].mean()\r\n",
    "per_math_by_spend = school_data_df[school_data_df['Math Score'] >= 70].groupby('group_spending')['Student ID'].count() / by_spending['Student ID'].count() * 100\r\n",
    "per_read_by_spend = school_data_df[school_data_df['Reading Score'] >= 70].groupby('group_spending')['Student ID'].count() / by_spending['Student ID'].count() * 100\r\n",
    "per_overall_by_spend = school_data_df[(school_data_df['Math Score'] >= 70) & (school_data_df['Reading Score'] >= 70)].groupby('group_spending')['Student ID'].count() / by_spending['Student ID'].count() * 100"
   ]
  },
  {
   "cell_type": "code",
   "execution_count": 40,
   "metadata": {},
   "outputs": [
    {
     "data": {
      "text/html": "<div>\n<style scoped>\n    .dataframe tbody tr th:only-of-type {\n        vertical-align: middle;\n    }\n\n    .dataframe tbody tr th {\n        vertical-align: top;\n    }\n\n    .dataframe thead th {\n        text-align: right;\n    }\n</style>\n<table border=\"1\" class=\"dataframe\">\n  <thead>\n    <tr style=\"text-align: right;\">\n      <th></th>\n      <th>Average Math Score</th>\n      <th>Average Reading Score</th>\n      <th>Percent Passing Math</th>\n      <th>Percent Passing Reading</th>\n      <th>Percent Passing Overall</th>\n    </tr>\n    <tr>\n      <th>group_spending</th>\n      <th></th>\n      <th></th>\n      <th></th>\n      <th></th>\n      <th></th>\n    </tr>\n  </thead>\n  <tbody>\n    <tr>\n      <th>&lt; $585</th>\n      <td>83.363065</td>\n      <td>83.964039</td>\n      <td>93.702889</td>\n      <td>96.686558</td>\n      <td>90.640704</td>\n    </tr>\n    <tr>\n      <th>$585 - $629</th>\n      <td>79.982873</td>\n      <td>82.312643</td>\n      <td>79.109851</td>\n      <td>88.513145</td>\n      <td>70.939239</td>\n    </tr>\n    <tr>\n      <th>$630 - $644</th>\n      <td>77.821056</td>\n      <td>81.301007</td>\n      <td>70.623565</td>\n      <td>82.600247</td>\n      <td>58.841194</td>\n    </tr>\n    <tr>\n      <th>&gt;$645</th>\n      <td>77.049297</td>\n      <td>81.005604</td>\n      <td>66.230813</td>\n      <td>81.109397</td>\n      <td>53.528791</td>\n    </tr>\n  </tbody>\n</table>\n</div>",
      "text/plain": "                Average Math Score  Average Reading Score  \\\ngroup_spending                                              \n< $585                   83.363065              83.964039   \n$585 - $629              79.982873              82.312643   \n$630 - $644              77.821056              81.301007   \n>$645                    77.049297              81.005604   \n\n                Percent Passing Math  Percent Passing Reading  \\\ngroup_spending                                                  \n< $585                     93.702889                96.686558   \n$585 - $629                79.109851                88.513145   \n$630 - $644                70.623565                82.600247   \n>$645                      66.230813                81.109397   \n\n                Percent Passing Overall  \ngroup_spending                           \n< $585                        90.640704  \n$585 - $629                   70.939239  \n$630 - $644                   58.841194  \n>$645                         53.528791  "
     },
     "execution_count": 40,
     "metadata": {},
     "output_type": "execute_result"
    }
   ],
   "source": [
    "# Create df\r\n",
    "scores_by_spending = pd.DataFrame({\r\n",
    "        'Average Math Score': math_by_spend,\r\n",
    "        'Average Reading Score': reading_by_spend,\r\n",
    "        'Percent Passing Math': per_math_by_spend,\r\n",
    "        'Percent Passing Reading': per_read_by_spend, \r\n",
    "        'Percent Passing Overall': per_overall_by_spend\r\n",
    "})\r\n",
    "scores_by_spending"
   ]
  },
  {
   "cell_type": "code",
   "execution_count": 41,
   "metadata": {},
   "outputs": [
    {
     "data": {
      "text/html": "<style  type=\"text/css\" >\n</style><table id=\"T_8c469_\" ><thead>    <tr>        <th class=\"blank level0\" ></th>        <th class=\"col_heading level0 col0\" >Average Math Score</th>        <th class=\"col_heading level0 col1\" >Average Reading Score</th>        <th class=\"col_heading level0 col2\" >Percent Passing Math</th>        <th class=\"col_heading level0 col3\" >Percent Passing Reading</th>        <th class=\"col_heading level0 col4\" >Percent Passing Overall</th>    </tr>    <tr>        <th class=\"index_name level0\" >group_spending</th>        <th class=\"blank\" ></th>        <th class=\"blank\" ></th>        <th class=\"blank\" ></th>        <th class=\"blank\" ></th>        <th class=\"blank\" ></th>    </tr></thead><tbody>\n                <tr>\n                        <th id=\"T_8c469_level0_row0\" class=\"row_heading level0 row0\" >< $585</th>\n                        <td id=\"T_8c469_row0_col0\" class=\"data row0 col0\" >83.36</td>\n                        <td id=\"T_8c469_row0_col1\" class=\"data row0 col1\" >83.96</td>\n                        <td id=\"T_8c469_row0_col2\" class=\"data row0 col2\" >93.70</td>\n                        <td id=\"T_8c469_row0_col3\" class=\"data row0 col3\" >96.69</td>\n                        <td id=\"T_8c469_row0_col4\" class=\"data row0 col4\" >90.64</td>\n            </tr>\n            <tr>\n                        <th id=\"T_8c469_level0_row1\" class=\"row_heading level0 row1\" >$585 - $629</th>\n                        <td id=\"T_8c469_row1_col0\" class=\"data row1 col0\" >79.98</td>\n                        <td id=\"T_8c469_row1_col1\" class=\"data row1 col1\" >82.31</td>\n                        <td id=\"T_8c469_row1_col2\" class=\"data row1 col2\" >79.11</td>\n                        <td id=\"T_8c469_row1_col3\" class=\"data row1 col3\" >88.51</td>\n                        <td id=\"T_8c469_row1_col4\" class=\"data row1 col4\" >70.94</td>\n            </tr>\n            <tr>\n                        <th id=\"T_8c469_level0_row2\" class=\"row_heading level0 row2\" >$630 - $644</th>\n                        <td id=\"T_8c469_row2_col0\" class=\"data row2 col0\" >77.82</td>\n                        <td id=\"T_8c469_row2_col1\" class=\"data row2 col1\" >81.30</td>\n                        <td id=\"T_8c469_row2_col2\" class=\"data row2 col2\" >70.62</td>\n                        <td id=\"T_8c469_row2_col3\" class=\"data row2 col3\" >82.60</td>\n                        <td id=\"T_8c469_row2_col4\" class=\"data row2 col4\" >58.84</td>\n            </tr>\n            <tr>\n                        <th id=\"T_8c469_level0_row3\" class=\"row_heading level0 row3\" >>$645</th>\n                        <td id=\"T_8c469_row3_col0\" class=\"data row3 col0\" >77.05</td>\n                        <td id=\"T_8c469_row3_col1\" class=\"data row3 col1\" >81.01</td>\n                        <td id=\"T_8c469_row3_col2\" class=\"data row3 col2\" >66.23</td>\n                        <td id=\"T_8c469_row3_col3\" class=\"data row3 col3\" >81.11</td>\n                        <td id=\"T_8c469_row3_col4\" class=\"data row3 col4\" >53.53</td>\n            </tr>\n    </tbody></table>",
      "text/plain": "<pandas.io.formats.style.Styler at 0x2017402dd30>"
     },
     "execution_count": 41,
     "metadata": {},
     "output_type": "execute_result"
    }
   ],
   "source": [
    "# Format df\r\n",
    "scores_by_spending.style.format({'Average Math Score': '{:.2f}',\r\n",
    "                                'Average Reading Score': '{:.2f}',\r\n",
    "                                'Percent Passing Math': '{:.2f}',\r\n",
    "                                'Percent Passing Reading': '{:.2f}',\r\n",
    "                                'Percent Passing Overall': '{:.2f}'\r\n",
    "                                })"
   ]
  },
  {
   "cell_type": "code",
   "execution_count": 42,
   "metadata": {},
   "outputs": [],
   "source": [
    "# Scores by school size - school size ranges <1,000 / 1,000 / 2,000 / 2,000-5,000 - ave math/reading/% passing math/% passing reading/% passing overall\r\n",
    "bins = [0, 999, 1999, 5000]\r\n",
    "group_name = ['Small ( < 1000)', 'Medium (1000 - 2000)', 'Large (2000 - 5000)']\r\n",
    "school_data_df['size_bins'] = pd.cut(school_data_df['Size'], bins, labels = group_name)\r\n",
    "\r\n",
    "scores_by_size = school_data_df.groupby('size_bins')"
   ]
  },
  {
   "cell_type": "code",
   "execution_count": 43,
   "metadata": {},
   "outputs": [],
   "source": [
    "# Calculate math/reading/% passing math/% passing reading/% passing overall\r\n",
    "math_by_sch_size = scores_by_size['Math Score'].mean()\r\n",
    "reading_by_sch_size = scores_by_size['Reading Score'].mean()\r\n",
    "per_math_by_size = school_data_df[school_data_df['Math Score'] >= 70].groupby('size_bins')['Student ID'].count() / scores_by_size['Student ID'].count() * 100\r\n",
    "per_reading_by_size = school_data_df[school_data_df['Reading Score'] >= 70].groupby('size_bins')['Student ID'].count() / scores_by_size['Student ID'].count() * 100\r\n",
    "per_pass_by_size = school_data_df[(school_data_df['Math Score'] >= 70) & (school_data_df['Reading Score'] >= 70)].groupby('size_bins')['Student ID'].count() / scores_by_size['Student ID'].count() * 100"
   ]
  },
  {
   "cell_type": "code",
   "execution_count": 44,
   "metadata": {},
   "outputs": [
    {
     "data": {
      "text/html": "<div>\n<style scoped>\n    .dataframe tbody tr th:only-of-type {\n        vertical-align: middle;\n    }\n\n    .dataframe tbody tr th {\n        vertical-align: top;\n    }\n\n    .dataframe thead th {\n        text-align: right;\n    }\n</style>\n<table border=\"1\" class=\"dataframe\">\n  <thead>\n    <tr style=\"text-align: right;\">\n      <th></th>\n      <th>Average Math Score</th>\n      <th>Average Reading Score</th>\n      <th>Percent Passing Math</th>\n      <th>Percent Passing Reading</th>\n      <th>Percent Passing Overall</th>\n    </tr>\n    <tr>\n      <th>size_bins</th>\n      <th></th>\n      <th></th>\n      <th></th>\n      <th></th>\n      <th></th>\n    </tr>\n  </thead>\n  <tbody>\n    <tr>\n      <th>Small ( &lt; 1000)</th>\n      <td>83.828654</td>\n      <td>83.974082</td>\n      <td>93.952484</td>\n      <td>96.040317</td>\n      <td>90.136789</td>\n    </tr>\n    <tr>\n      <th>Medium (1000 - 2000)</th>\n      <td>83.372682</td>\n      <td>83.867989</td>\n      <td>93.616522</td>\n      <td>96.773058</td>\n      <td>90.624267</td>\n    </tr>\n    <tr>\n      <th>Large (2000 - 5000)</th>\n      <td>77.477597</td>\n      <td>81.198674</td>\n      <td>68.652380</td>\n      <td>82.125158</td>\n      <td>56.574046</td>\n    </tr>\n  </tbody>\n</table>\n</div>",
      "text/plain": "                      Average Math Score  Average Reading Score  \\\nsize_bins                                                         \nSmall ( < 1000)                83.828654              83.974082   \nMedium (1000 - 2000)           83.372682              83.867989   \nLarge (2000 - 5000)            77.477597              81.198674   \n\n                      Percent Passing Math  Percent Passing Reading  \\\nsize_bins                                                             \nSmall ( < 1000)                  93.952484                96.040317   \nMedium (1000 - 2000)             93.616522                96.773058   \nLarge (2000 - 5000)              68.652380                82.125158   \n\n                      Percent Passing Overall  \nsize_bins                                      \nSmall ( < 1000)                     90.136789  \nMedium (1000 - 2000)                90.624267  \nLarge (2000 - 5000)                 56.574046  "
     },
     "execution_count": 44,
     "metadata": {},
     "output_type": "execute_result"
    }
   ],
   "source": [
    "# Create df\r\n",
    "scores_by_size = pd.DataFrame({\r\n",
    "        'Average Math Score': math_by_sch_size,\r\n",
    "        'Average Reading Score': reading_by_sch_size,\r\n",
    "        'Percent Passing Math': per_math_by_size,\r\n",
    "        'Percent Passing Reading': per_reading_by_size,\r\n",
    "        'Percent Passing Overall': per_pass_by_size\r\n",
    "})\r\n",
    "scores_by_size"
   ]
  },
  {
   "cell_type": "code",
   "execution_count": 45,
   "metadata": {},
   "outputs": [
    {
     "data": {
      "text/html": "<style  type=\"text/css\" >\n</style><table id=\"T_78b4a_\" ><thead>    <tr>        <th class=\"blank level0\" ></th>        <th class=\"col_heading level0 col0\" >Average Math Score</th>        <th class=\"col_heading level0 col1\" >Average Reading Score</th>        <th class=\"col_heading level0 col2\" >Percent Passing Math</th>        <th class=\"col_heading level0 col3\" >Percent Passing Reading</th>        <th class=\"col_heading level0 col4\" >Percent Passing Overall</th>    </tr>    <tr>        <th class=\"index_name level0\" >size_bins</th>        <th class=\"blank\" ></th>        <th class=\"blank\" ></th>        <th class=\"blank\" ></th>        <th class=\"blank\" ></th>        <th class=\"blank\" ></th>    </tr></thead><tbody>\n                <tr>\n                        <th id=\"T_78b4a_level0_row0\" class=\"row_heading level0 row0\" >Small ( < 1000)</th>\n                        <td id=\"T_78b4a_row0_col0\" class=\"data row0 col0\" >83.83</td>\n                        <td id=\"T_78b4a_row0_col1\" class=\"data row0 col1\" >83.97</td>\n                        <td id=\"T_78b4a_row0_col2\" class=\"data row0 col2\" >93.95</td>\n                        <td id=\"T_78b4a_row0_col3\" class=\"data row0 col3\" >96.04</td>\n                        <td id=\"T_78b4a_row0_col4\" class=\"data row0 col4\" >90.14</td>\n            </tr>\n            <tr>\n                        <th id=\"T_78b4a_level0_row1\" class=\"row_heading level0 row1\" >Medium (1000 - 2000)</th>\n                        <td id=\"T_78b4a_row1_col0\" class=\"data row1 col0\" >83.37</td>\n                        <td id=\"T_78b4a_row1_col1\" class=\"data row1 col1\" >83.87</td>\n                        <td id=\"T_78b4a_row1_col2\" class=\"data row1 col2\" >93.62</td>\n                        <td id=\"T_78b4a_row1_col3\" class=\"data row1 col3\" >96.77</td>\n                        <td id=\"T_78b4a_row1_col4\" class=\"data row1 col4\" >90.62</td>\n            </tr>\n            <tr>\n                        <th id=\"T_78b4a_level0_row2\" class=\"row_heading level0 row2\" >Large (2000 - 5000)</th>\n                        <td id=\"T_78b4a_row2_col0\" class=\"data row2 col0\" >77.48</td>\n                        <td id=\"T_78b4a_row2_col1\" class=\"data row2 col1\" >81.20</td>\n                        <td id=\"T_78b4a_row2_col2\" class=\"data row2 col2\" >68.65</td>\n                        <td id=\"T_78b4a_row2_col3\" class=\"data row2 col3\" >82.13</td>\n                        <td id=\"T_78b4a_row2_col4\" class=\"data row2 col4\" >56.57</td>\n            </tr>\n    </tbody></table>",
      "text/plain": "<pandas.io.formats.style.Styler at 0x201719d4400>"
     },
     "execution_count": 45,
     "metadata": {},
     "output_type": "execute_result"
    }
   ],
   "source": [
    "# Format df\r\n",
    "scores_by_size.style.format({\r\n",
    "        'Average Math Score': '{:.2f}',\r\n",
    "        'Average Reading Score': '{:.2f}',\r\n",
    "        'Percent Passing Math': '{:.2f}',\r\n",
    "        'Percent Passing Reading': '{:.2f}',\r\n",
    "        'Percent Passing Overall': '{:.2f}'\r\n",
    "})"
   ]
  },
  {
   "cell_type": "code",
   "execution_count": 46,
   "metadata": {},
   "outputs": [],
   "source": [
    "# Scores by school type - Charter / District  - ave math/reading/% passing math/% passing reading/% passing overall\r\n",
    "by_type = school_data_df.groupby('Type')"
   ]
  },
  {
   "cell_type": "code",
   "execution_count": 47,
   "metadata": {},
   "outputs": [],
   "source": [
    "# Calculate - ave math/reading/% passing math/% passing reading/% passing overall\r\n",
    "math_by_type = by_type['Math Score'].mean()\r\n",
    "reading_by_type = by_type['Reading Score'].mean()\r\n",
    "per_math_by_type = school_data_df[school_data_df['Math Score'] >= 70].groupby('Type')['Student ID'].count() / by_type['Student ID'].count() * 100\r\n",
    "per_reading_by_type = school_data_df[school_data_df['Reading Score'] >= 70].groupby('Type')['Student ID'].count() / by_type['Student ID'].count() * 100\r\n",
    "per_both_by_type = school_data_df[(school_data_df['Math Score'] >= 70) & (school_data_df['Reading Score'] >= 70)].groupby('Type')['Student ID'].count() / by_type['Student ID'].count() * 100"
   ]
  },
  {
   "cell_type": "code",
   "execution_count": 48,
   "metadata": {},
   "outputs": [
    {
     "data": {
      "text/html": "<div>\n<style scoped>\n    .dataframe tbody tr th:only-of-type {\n        vertical-align: middle;\n    }\n\n    .dataframe tbody tr th {\n        vertical-align: top;\n    }\n\n    .dataframe thead th {\n        text-align: right;\n    }\n</style>\n<table border=\"1\" class=\"dataframe\">\n  <thead>\n    <tr style=\"text-align: right;\">\n      <th></th>\n      <th>Average Math Score</th>\n      <th>Average Reading Score</th>\n      <th>Percent Passing Math</th>\n      <th>Percent Passing Reading</th>\n      <th>Percent Passing Overall</th>\n    </tr>\n    <tr>\n      <th>Type</th>\n      <th></th>\n      <th></th>\n      <th></th>\n      <th></th>\n      <th></th>\n    </tr>\n  </thead>\n  <tbody>\n    <tr>\n      <th>Charter</th>\n      <td>83.406183</td>\n      <td>83.902821</td>\n      <td>93.701821</td>\n      <td>96.645891</td>\n      <td>90.560932</td>\n    </tr>\n    <tr>\n      <th>District</th>\n      <td>76.987026</td>\n      <td>80.962485</td>\n      <td>66.518387</td>\n      <td>80.905249</td>\n      <td>53.695878</td>\n    </tr>\n  </tbody>\n</table>\n</div>",
      "text/plain": "          Average Math Score  Average Reading Score  Percent Passing Math  \\\nType                                                                        \nCharter            83.406183              83.902821             93.701821   \nDistrict           76.987026              80.962485             66.518387   \n\n          Percent Passing Reading  Percent Passing Overall  \nType                                                        \nCharter                 96.645891                90.560932  \nDistrict                80.905249                53.695878  "
     },
     "execution_count": 48,
     "metadata": {},
     "output_type": "execute_result"
    }
   ],
   "source": [
    "# Create df\r\n",
    "scores_by_type = pd.DataFrame({'Average Math Score': math_by_type,\r\n",
    "                                'Average Reading Score': reading_by_type, \r\n",
    "                                'Percent Passing Math': per_math_by_type, \r\n",
    "                                'Percent Passing Reading': per_reading_by_type,\r\n",
    "                                'Percent Passing Overall': per_both_by_type\r\n",
    "})\r\n",
    "scores_by_type"
   ]
  },
  {
   "cell_type": "code",
   "execution_count": 49,
   "metadata": {},
   "outputs": [
    {
     "data": {
      "text/html": "<style  type=\"text/css\" >\n</style><table id=\"T_c0b9a_\" ><thead>    <tr>        <th class=\"blank level0\" ></th>        <th class=\"col_heading level0 col0\" >Average Math Score</th>        <th class=\"col_heading level0 col1\" >Average Reading Score</th>        <th class=\"col_heading level0 col2\" >Percent Passing Math</th>        <th class=\"col_heading level0 col3\" >Percent Passing Reading</th>        <th class=\"col_heading level0 col4\" >Percent Passing Overall</th>    </tr>    <tr>        <th class=\"index_name level0\" >Type</th>        <th class=\"blank\" ></th>        <th class=\"blank\" ></th>        <th class=\"blank\" ></th>        <th class=\"blank\" ></th>        <th class=\"blank\" ></th>    </tr></thead><tbody>\n                <tr>\n                        <th id=\"T_c0b9a_level0_row0\" class=\"row_heading level0 row0\" >Charter</th>\n                        <td id=\"T_c0b9a_row0_col0\" class=\"data row0 col0\" >83.41</td>\n                        <td id=\"T_c0b9a_row0_col1\" class=\"data row0 col1\" >83.90</td>\n                        <td id=\"T_c0b9a_row0_col2\" class=\"data row0 col2\" >93.70</td>\n                        <td id=\"T_c0b9a_row0_col3\" class=\"data row0 col3\" >96.65</td>\n                        <td id=\"T_c0b9a_row0_col4\" class=\"data row0 col4\" >90.56</td>\n            </tr>\n            <tr>\n                        <th id=\"T_c0b9a_level0_row1\" class=\"row_heading level0 row1\" >District</th>\n                        <td id=\"T_c0b9a_row1_col0\" class=\"data row1 col0\" >76.99</td>\n                        <td id=\"T_c0b9a_row1_col1\" class=\"data row1 col1\" >80.96</td>\n                        <td id=\"T_c0b9a_row1_col2\" class=\"data row1 col2\" >66.52</td>\n                        <td id=\"T_c0b9a_row1_col3\" class=\"data row1 col3\" >80.91</td>\n                        <td id=\"T_c0b9a_row1_col4\" class=\"data row1 col4\" >53.70</td>\n            </tr>\n    </tbody></table>",
      "text/plain": "<pandas.io.formats.style.Styler at 0x20174017a60>"
     },
     "execution_count": 49,
     "metadata": {},
     "output_type": "execute_result"
    }
   ],
   "source": [
    "# Format df\r\n",
    "scores_by_type.style.format({\r\n",
    "        'Average Math Score': '{:.2f}',\r\n",
    "        'Average Reading Score': '{:.2f}',\r\n",
    "        'Percent Passing Math': '{:.2f}',\r\n",
    "        'Percent Passing Reading': '{:.2f}',\r\n",
    "        'Percent Passing Overall': '{:.2f}'\r\n",
    "})"
   ]
  }
 ],
 "metadata": {
  "kernelspec": {
   "display_name": "Python 3",
   "language": "python",
   "name": "python3"
  },
  "language_info": {
   "codemirror_mode": {
    "name": "ipython",
    "version": 3
   },
   "file_extension": ".py",
   "mimetype": "text/x-python",
   "name": "python",
   "nbconvert_exporter": "python",
   "pygments_lexer": "ipython3",
   "version": "3.8.3-final"
  },
  "orig_nbformat": 2
 },
 "nbformat": 4,
 "nbformat_minor": 2
}